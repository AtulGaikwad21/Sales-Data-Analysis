{
  "nbformat": 4,
  "nbformat_minor": 0,
  "metadata": {
    "colab": {
      "provenance": []
    },
    "kernelspec": {
      "name": "python3",
      "display_name": "Python 3"
    },
    "language_info": {
      "name": "python"
    }
  },
  "cells": [
    {
      "cell_type": "markdown",
      "source": [
        "# An E-commerce Company's Path to Sustainable Growth : Analysis"
      ],
      "metadata": {
        "id": "WnzK2QFgT-zJ"
      }
    },
    {
      "cell_type": "code",
      "execution_count": null,
      "metadata": {
        "id": "tUCeY7ZXT8wB"
      },
      "outputs": [],
      "source": [
        "import pandas as pd\n",
        "import numpy as np\n",
        "import matplotlib.pyplot as plt\n",
        "import seaborn as sns"
      ]
    },
    {
      "cell_type": "code",
      "source": [
        "file_path = '/content/drive/MyDrive/sales_dataset.csv'\n",
        "data= pd.read_csv(file_path)\n",
        "\n",
        "data"
      ],
      "metadata": {
        "colab": {
          "base_uri": "https://localhost:8080/",
          "height": 1000
        },
        "id": "F9T0qdlaWUvW",
        "outputId": "169e8311-2dda-4a9f-cbcb-7c97a1a41045"
      },
      "execution_count": null,
      "outputs": [
        {
          "output_type": "stream",
          "name": "stderr",
          "text": [
            "<ipython-input-2-271a4f7a7641>:2: DtypeWarning: Columns (22) have mixed types. Specify dtype option on import or set low_memory=False.\n",
            "  data= pd.read_csv(file_path)\n"
          ]
        },
        {
          "output_type": "execute_result",
          "data": {
            "text/plain": [
              "                   Order ID      Date                        Status  \\\n",
              "0       405-8078784-5731545  04-30-22                     Cancelled   \n",
              "1       171-9198151-1101146  04-30-22  Shipped - Delivered to Buyer   \n",
              "2       404-0687676-7273146  04-30-22                       Shipped   \n",
              "3       403-9615377-8133951  04-30-22                     Cancelled   \n",
              "4       407-1069790-7240320  04-30-22                       Shipped   \n",
              "...                     ...       ...                           ...   \n",
              "128944  406-6001380-7673107  05-31-22                       Shipped   \n",
              "128945  402-9551604-7544318  05-31-22                     Cancelled   \n",
              "128946  407-9547469-3152358  05-31-22                       Shipped   \n",
              "128947  402-6184140-0545956  05-31-22                       Shipped   \n",
              "128948  408-7436540-8728312  05-31-22                       Shipped   \n",
              "\n",
              "       Fulfilment Sales Channel  ship-service-level    Style              SKU  \\\n",
              "0        Merchant      Amazon.in           Standard   SET389   SET389-KR-NP-S   \n",
              "1        Merchant      Amazon.in           Standard  JNE3781  JNE3781-KR-XXXL   \n",
              "2          Amazon      Amazon.in          Expedited  JNE3371    JNE3371-KR-XL   \n",
              "3        Merchant      Amazon.in           Standard    J0341       J0341-DR-L   \n",
              "4          Amazon      Amazon.in          Expedited  JNE3671  JNE3671-TU-XXXL   \n",
              "...           ...            ...                ...      ...              ...   \n",
              "128944     Amazon      Amazon.in          Expedited  JNE3697    JNE3697-KR-XL   \n",
              "128945     Amazon      Amazon.in          Expedited   SET401   SET401-KR-NP-M   \n",
              "128946     Amazon      Amazon.in          Expedited    J0157     J0157-DR-XXL   \n",
              "128947     Amazon      Amazon.in          Expedited    J0012     J0012-SKD-XS   \n",
              "128948     Amazon      Amazon.in          Expedited    J0003      J0003-SET-S   \n",
              "\n",
              "             Category Size  ... currency   Amount    ship-city    ship-state  \\\n",
              "0                 Set    S  ...      INR   647.62       MUMBAI   MAHARASHTRA   \n",
              "1               kurta  3XL  ...      INR   406.00    BENGALURU     KARNATAKA   \n",
              "2               kurta   XL  ...      INR   329.00  NAVI MUMBAI   MAHARASHTRA   \n",
              "3       Western Dress    L  ...      INR   753.33   PUDUCHERRY    PUDUCHERRY   \n",
              "4                 Top  3XL  ...      INR   574.00      CHENNAI    TAMIL NADU   \n",
              "...               ...  ...  ...      ...      ...          ...           ...   \n",
              "128944          kurta   XL  ...      INR   517.00    HYDERABAD     TELANGANA   \n",
              "128945            Set    M  ...      INR   999.00     GURUGRAM       HARYANA   \n",
              "128946  Western Dress  XXL  ...      INR   690.00    HYDERABAD     TELANGANA   \n",
              "128947            Set   XS  ...      INR  1199.00        Halol       Gujarat   \n",
              "128948            Set    S  ...      INR   696.00       Raipur  CHHATTISGARH   \n",
              "\n",
              "        ship-postal-code ship-country  \\\n",
              "0               400081.0           IN   \n",
              "1               560085.0           IN   \n",
              "2               410210.0           IN   \n",
              "3               605008.0           IN   \n",
              "4               600073.0           IN   \n",
              "...                  ...          ...   \n",
              "128944          500013.0           IN   \n",
              "128945          122004.0           IN   \n",
              "128946          500049.0           IN   \n",
              "128947          389350.0           IN   \n",
              "128948          492014.0           IN   \n",
              "\n",
              "                                            promotion-ids    B2B fulfilled-by  \\\n",
              "0                                                     NaN  False    Easy Ship   \n",
              "1       Amazon PLCC Free-Financing Universal Merchant ...  False    Easy Ship   \n",
              "2            IN Core Free Shipping 2015/04/08 23-48-5-108   True          NaN   \n",
              "3                                                     NaN  False    Easy Ship   \n",
              "4                                                     NaN  False          NaN   \n",
              "...                                                   ...    ...          ...   \n",
              "128944                                                NaN  False          NaN   \n",
              "128945       IN Core Free Shipping 2015/04/08 23-48-5-108  False          NaN   \n",
              "128946                                                NaN  False          NaN   \n",
              "128947       IN Core Free Shipping 2015/04/08 23-48-5-108  False          NaN   \n",
              "128948       IN Core Free Shipping 2015/04/08 23-48-5-108  False          NaN   \n",
              "\n",
              "       Unnamed: 22  \n",
              "0              NaN  \n",
              "1              NaN  \n",
              "2              NaN  \n",
              "3              NaN  \n",
              "4              NaN  \n",
              "...            ...  \n",
              "128944       False  \n",
              "128945       False  \n",
              "128946       False  \n",
              "128947       False  \n",
              "128948       False  \n",
              "\n",
              "[128949 rows x 23 columns]"
            ],
            "text/html": [
              "\n",
              "  <div id=\"df-d3e9033f-e89c-4b2c-b117-c018cb69d0b3\" class=\"colab-df-container\">\n",
              "    <div>\n",
              "<style scoped>\n",
              "    .dataframe tbody tr th:only-of-type {\n",
              "        vertical-align: middle;\n",
              "    }\n",
              "\n",
              "    .dataframe tbody tr th {\n",
              "        vertical-align: top;\n",
              "    }\n",
              "\n",
              "    .dataframe thead th {\n",
              "        text-align: right;\n",
              "    }\n",
              "</style>\n",
              "<table border=\"1\" class=\"dataframe\">\n",
              "  <thead>\n",
              "    <tr style=\"text-align: right;\">\n",
              "      <th></th>\n",
              "      <th>Order ID</th>\n",
              "      <th>Date</th>\n",
              "      <th>Status</th>\n",
              "      <th>Fulfilment</th>\n",
              "      <th>Sales Channel</th>\n",
              "      <th>ship-service-level</th>\n",
              "      <th>Style</th>\n",
              "      <th>SKU</th>\n",
              "      <th>Category</th>\n",
              "      <th>Size</th>\n",
              "      <th>...</th>\n",
              "      <th>currency</th>\n",
              "      <th>Amount</th>\n",
              "      <th>ship-city</th>\n",
              "      <th>ship-state</th>\n",
              "      <th>ship-postal-code</th>\n",
              "      <th>ship-country</th>\n",
              "      <th>promotion-ids</th>\n",
              "      <th>B2B</th>\n",
              "      <th>fulfilled-by</th>\n",
              "      <th>Unnamed: 22</th>\n",
              "    </tr>\n",
              "  </thead>\n",
              "  <tbody>\n",
              "    <tr>\n",
              "      <th>0</th>\n",
              "      <td>405-8078784-5731545</td>\n",
              "      <td>04-30-22</td>\n",
              "      <td>Cancelled</td>\n",
              "      <td>Merchant</td>\n",
              "      <td>Amazon.in</td>\n",
              "      <td>Standard</td>\n",
              "      <td>SET389</td>\n",
              "      <td>SET389-KR-NP-S</td>\n",
              "      <td>Set</td>\n",
              "      <td>S</td>\n",
              "      <td>...</td>\n",
              "      <td>INR</td>\n",
              "      <td>647.62</td>\n",
              "      <td>MUMBAI</td>\n",
              "      <td>MAHARASHTRA</td>\n",
              "      <td>400081.0</td>\n",
              "      <td>IN</td>\n",
              "      <td>NaN</td>\n",
              "      <td>False</td>\n",
              "      <td>Easy Ship</td>\n",
              "      <td>NaN</td>\n",
              "    </tr>\n",
              "    <tr>\n",
              "      <th>1</th>\n",
              "      <td>171-9198151-1101146</td>\n",
              "      <td>04-30-22</td>\n",
              "      <td>Shipped - Delivered to Buyer</td>\n",
              "      <td>Merchant</td>\n",
              "      <td>Amazon.in</td>\n",
              "      <td>Standard</td>\n",
              "      <td>JNE3781</td>\n",
              "      <td>JNE3781-KR-XXXL</td>\n",
              "      <td>kurta</td>\n",
              "      <td>3XL</td>\n",
              "      <td>...</td>\n",
              "      <td>INR</td>\n",
              "      <td>406.00</td>\n",
              "      <td>BENGALURU</td>\n",
              "      <td>KARNATAKA</td>\n",
              "      <td>560085.0</td>\n",
              "      <td>IN</td>\n",
              "      <td>Amazon PLCC Free-Financing Universal Merchant ...</td>\n",
              "      <td>False</td>\n",
              "      <td>Easy Ship</td>\n",
              "      <td>NaN</td>\n",
              "    </tr>\n",
              "    <tr>\n",
              "      <th>2</th>\n",
              "      <td>404-0687676-7273146</td>\n",
              "      <td>04-30-22</td>\n",
              "      <td>Shipped</td>\n",
              "      <td>Amazon</td>\n",
              "      <td>Amazon.in</td>\n",
              "      <td>Expedited</td>\n",
              "      <td>JNE3371</td>\n",
              "      <td>JNE3371-KR-XL</td>\n",
              "      <td>kurta</td>\n",
              "      <td>XL</td>\n",
              "      <td>...</td>\n",
              "      <td>INR</td>\n",
              "      <td>329.00</td>\n",
              "      <td>NAVI MUMBAI</td>\n",
              "      <td>MAHARASHTRA</td>\n",
              "      <td>410210.0</td>\n",
              "      <td>IN</td>\n",
              "      <td>IN Core Free Shipping 2015/04/08 23-48-5-108</td>\n",
              "      <td>True</td>\n",
              "      <td>NaN</td>\n",
              "      <td>NaN</td>\n",
              "    </tr>\n",
              "    <tr>\n",
              "      <th>3</th>\n",
              "      <td>403-9615377-8133951</td>\n",
              "      <td>04-30-22</td>\n",
              "      <td>Cancelled</td>\n",
              "      <td>Merchant</td>\n",
              "      <td>Amazon.in</td>\n",
              "      <td>Standard</td>\n",
              "      <td>J0341</td>\n",
              "      <td>J0341-DR-L</td>\n",
              "      <td>Western Dress</td>\n",
              "      <td>L</td>\n",
              "      <td>...</td>\n",
              "      <td>INR</td>\n",
              "      <td>753.33</td>\n",
              "      <td>PUDUCHERRY</td>\n",
              "      <td>PUDUCHERRY</td>\n",
              "      <td>605008.0</td>\n",
              "      <td>IN</td>\n",
              "      <td>NaN</td>\n",
              "      <td>False</td>\n",
              "      <td>Easy Ship</td>\n",
              "      <td>NaN</td>\n",
              "    </tr>\n",
              "    <tr>\n",
              "      <th>4</th>\n",
              "      <td>407-1069790-7240320</td>\n",
              "      <td>04-30-22</td>\n",
              "      <td>Shipped</td>\n",
              "      <td>Amazon</td>\n",
              "      <td>Amazon.in</td>\n",
              "      <td>Expedited</td>\n",
              "      <td>JNE3671</td>\n",
              "      <td>JNE3671-TU-XXXL</td>\n",
              "      <td>Top</td>\n",
              "      <td>3XL</td>\n",
              "      <td>...</td>\n",
              "      <td>INR</td>\n",
              "      <td>574.00</td>\n",
              "      <td>CHENNAI</td>\n",
              "      <td>TAMIL NADU</td>\n",
              "      <td>600073.0</td>\n",
              "      <td>IN</td>\n",
              "      <td>NaN</td>\n",
              "      <td>False</td>\n",
              "      <td>NaN</td>\n",
              "      <td>NaN</td>\n",
              "    </tr>\n",
              "    <tr>\n",
              "      <th>...</th>\n",
              "      <td>...</td>\n",
              "      <td>...</td>\n",
              "      <td>...</td>\n",
              "      <td>...</td>\n",
              "      <td>...</td>\n",
              "      <td>...</td>\n",
              "      <td>...</td>\n",
              "      <td>...</td>\n",
              "      <td>...</td>\n",
              "      <td>...</td>\n",
              "      <td>...</td>\n",
              "      <td>...</td>\n",
              "      <td>...</td>\n",
              "      <td>...</td>\n",
              "      <td>...</td>\n",
              "      <td>...</td>\n",
              "      <td>...</td>\n",
              "      <td>...</td>\n",
              "      <td>...</td>\n",
              "      <td>...</td>\n",
              "      <td>...</td>\n",
              "    </tr>\n",
              "    <tr>\n",
              "      <th>128944</th>\n",
              "      <td>406-6001380-7673107</td>\n",
              "      <td>05-31-22</td>\n",
              "      <td>Shipped</td>\n",
              "      <td>Amazon</td>\n",
              "      <td>Amazon.in</td>\n",
              "      <td>Expedited</td>\n",
              "      <td>JNE3697</td>\n",
              "      <td>JNE3697-KR-XL</td>\n",
              "      <td>kurta</td>\n",
              "      <td>XL</td>\n",
              "      <td>...</td>\n",
              "      <td>INR</td>\n",
              "      <td>517.00</td>\n",
              "      <td>HYDERABAD</td>\n",
              "      <td>TELANGANA</td>\n",
              "      <td>500013.0</td>\n",
              "      <td>IN</td>\n",
              "      <td>NaN</td>\n",
              "      <td>False</td>\n",
              "      <td>NaN</td>\n",
              "      <td>False</td>\n",
              "    </tr>\n",
              "    <tr>\n",
              "      <th>128945</th>\n",
              "      <td>402-9551604-7544318</td>\n",
              "      <td>05-31-22</td>\n",
              "      <td>Cancelled</td>\n",
              "      <td>Amazon</td>\n",
              "      <td>Amazon.in</td>\n",
              "      <td>Expedited</td>\n",
              "      <td>SET401</td>\n",
              "      <td>SET401-KR-NP-M</td>\n",
              "      <td>Set</td>\n",
              "      <td>M</td>\n",
              "      <td>...</td>\n",
              "      <td>INR</td>\n",
              "      <td>999.00</td>\n",
              "      <td>GURUGRAM</td>\n",
              "      <td>HARYANA</td>\n",
              "      <td>122004.0</td>\n",
              "      <td>IN</td>\n",
              "      <td>IN Core Free Shipping 2015/04/08 23-48-5-108</td>\n",
              "      <td>False</td>\n",
              "      <td>NaN</td>\n",
              "      <td>False</td>\n",
              "    </tr>\n",
              "    <tr>\n",
              "      <th>128946</th>\n",
              "      <td>407-9547469-3152358</td>\n",
              "      <td>05-31-22</td>\n",
              "      <td>Shipped</td>\n",
              "      <td>Amazon</td>\n",
              "      <td>Amazon.in</td>\n",
              "      <td>Expedited</td>\n",
              "      <td>J0157</td>\n",
              "      <td>J0157-DR-XXL</td>\n",
              "      <td>Western Dress</td>\n",
              "      <td>XXL</td>\n",
              "      <td>...</td>\n",
              "      <td>INR</td>\n",
              "      <td>690.00</td>\n",
              "      <td>HYDERABAD</td>\n",
              "      <td>TELANGANA</td>\n",
              "      <td>500049.0</td>\n",
              "      <td>IN</td>\n",
              "      <td>NaN</td>\n",
              "      <td>False</td>\n",
              "      <td>NaN</td>\n",
              "      <td>False</td>\n",
              "    </tr>\n",
              "    <tr>\n",
              "      <th>128947</th>\n",
              "      <td>402-6184140-0545956</td>\n",
              "      <td>05-31-22</td>\n",
              "      <td>Shipped</td>\n",
              "      <td>Amazon</td>\n",
              "      <td>Amazon.in</td>\n",
              "      <td>Expedited</td>\n",
              "      <td>J0012</td>\n",
              "      <td>J0012-SKD-XS</td>\n",
              "      <td>Set</td>\n",
              "      <td>XS</td>\n",
              "      <td>...</td>\n",
              "      <td>INR</td>\n",
              "      <td>1199.00</td>\n",
              "      <td>Halol</td>\n",
              "      <td>Gujarat</td>\n",
              "      <td>389350.0</td>\n",
              "      <td>IN</td>\n",
              "      <td>IN Core Free Shipping 2015/04/08 23-48-5-108</td>\n",
              "      <td>False</td>\n",
              "      <td>NaN</td>\n",
              "      <td>False</td>\n",
              "    </tr>\n",
              "    <tr>\n",
              "      <th>128948</th>\n",
              "      <td>408-7436540-8728312</td>\n",
              "      <td>05-31-22</td>\n",
              "      <td>Shipped</td>\n",
              "      <td>Amazon</td>\n",
              "      <td>Amazon.in</td>\n",
              "      <td>Expedited</td>\n",
              "      <td>J0003</td>\n",
              "      <td>J0003-SET-S</td>\n",
              "      <td>Set</td>\n",
              "      <td>S</td>\n",
              "      <td>...</td>\n",
              "      <td>INR</td>\n",
              "      <td>696.00</td>\n",
              "      <td>Raipur</td>\n",
              "      <td>CHHATTISGARH</td>\n",
              "      <td>492014.0</td>\n",
              "      <td>IN</td>\n",
              "      <td>IN Core Free Shipping 2015/04/08 23-48-5-108</td>\n",
              "      <td>False</td>\n",
              "      <td>NaN</td>\n",
              "      <td>False</td>\n",
              "    </tr>\n",
              "  </tbody>\n",
              "</table>\n",
              "<p>128949 rows × 23 columns</p>\n",
              "</div>\n",
              "    <div class=\"colab-df-buttons\">\n",
              "\n",
              "  <div class=\"colab-df-container\">\n",
              "    <button class=\"colab-df-convert\" onclick=\"convertToInteractive('df-d3e9033f-e89c-4b2c-b117-c018cb69d0b3')\"\n",
              "            title=\"Convert this dataframe to an interactive table.\"\n",
              "            style=\"display:none;\">\n",
              "\n",
              "  <svg xmlns=\"http://www.w3.org/2000/svg\" height=\"24px\" viewBox=\"0 -960 960 960\">\n",
              "    <path d=\"M120-120v-720h720v720H120Zm60-500h600v-160H180v160Zm220 220h160v-160H400v160Zm0 220h160v-160H400v160ZM180-400h160v-160H180v160Zm440 0h160v-160H620v160ZM180-180h160v-160H180v160Zm440 0h160v-160H620v160Z\"/>\n",
              "  </svg>\n",
              "    </button>\n",
              "\n",
              "  <style>\n",
              "    .colab-df-container {\n",
              "      display:flex;\n",
              "      gap: 12px;\n",
              "    }\n",
              "\n",
              "    .colab-df-convert {\n",
              "      background-color: #E8F0FE;\n",
              "      border: none;\n",
              "      border-radius: 50%;\n",
              "      cursor: pointer;\n",
              "      display: none;\n",
              "      fill: #1967D2;\n",
              "      height: 32px;\n",
              "      padding: 0 0 0 0;\n",
              "      width: 32px;\n",
              "    }\n",
              "\n",
              "    .colab-df-convert:hover {\n",
              "      background-color: #E2EBFA;\n",
              "      box-shadow: 0px 1px 2px rgba(60, 64, 67, 0.3), 0px 1px 3px 1px rgba(60, 64, 67, 0.15);\n",
              "      fill: #174EA6;\n",
              "    }\n",
              "\n",
              "    .colab-df-buttons div {\n",
              "      margin-bottom: 4px;\n",
              "    }\n",
              "\n",
              "    [theme=dark] .colab-df-convert {\n",
              "      background-color: #3B4455;\n",
              "      fill: #D2E3FC;\n",
              "    }\n",
              "\n",
              "    [theme=dark] .colab-df-convert:hover {\n",
              "      background-color: #434B5C;\n",
              "      box-shadow: 0px 1px 3px 1px rgba(0, 0, 0, 0.15);\n",
              "      filter: drop-shadow(0px 1px 2px rgba(0, 0, 0, 0.3));\n",
              "      fill: #FFFFFF;\n",
              "    }\n",
              "  </style>\n",
              "\n",
              "    <script>\n",
              "      const buttonEl =\n",
              "        document.querySelector('#df-d3e9033f-e89c-4b2c-b117-c018cb69d0b3 button.colab-df-convert');\n",
              "      buttonEl.style.display =\n",
              "        google.colab.kernel.accessAllowed ? 'block' : 'none';\n",
              "\n",
              "      async function convertToInteractive(key) {\n",
              "        const element = document.querySelector('#df-d3e9033f-e89c-4b2c-b117-c018cb69d0b3');\n",
              "        const dataTable =\n",
              "          await google.colab.kernel.invokeFunction('convertToInteractive',\n",
              "                                                    [key], {});\n",
              "        if (!dataTable) return;\n",
              "\n",
              "        const docLinkHtml = 'Like what you see? Visit the ' +\n",
              "          '<a target=\"_blank\" href=https://colab.research.google.com/notebooks/data_table.ipynb>data table notebook</a>'\n",
              "          + ' to learn more about interactive tables.';\n",
              "        element.innerHTML = '';\n",
              "        dataTable['output_type'] = 'display_data';\n",
              "        await google.colab.output.renderOutput(dataTable, element);\n",
              "        const docLink = document.createElement('div');\n",
              "        docLink.innerHTML = docLinkHtml;\n",
              "        element.appendChild(docLink);\n",
              "      }\n",
              "    </script>\n",
              "  </div>\n",
              "\n",
              "\n",
              "<div id=\"df-facc5f09-f49d-4337-b251-e175c3c5dcdf\">\n",
              "  <button class=\"colab-df-quickchart\" onclick=\"quickchart('df-facc5f09-f49d-4337-b251-e175c3c5dcdf')\"\n",
              "            title=\"Suggest charts\"\n",
              "            style=\"display:none;\">\n",
              "\n",
              "<svg xmlns=\"http://www.w3.org/2000/svg\" height=\"24px\"viewBox=\"0 0 24 24\"\n",
              "     width=\"24px\">\n",
              "    <g>\n",
              "        <path d=\"M19 3H5c-1.1 0-2 .9-2 2v14c0 1.1.9 2 2 2h14c1.1 0 2-.9 2-2V5c0-1.1-.9-2-2-2zM9 17H7v-7h2v7zm4 0h-2V7h2v10zm4 0h-2v-4h2v4z\"/>\n",
              "    </g>\n",
              "</svg>\n",
              "  </button>\n",
              "\n",
              "<style>\n",
              "  .colab-df-quickchart {\n",
              "      --bg-color: #E8F0FE;\n",
              "      --fill-color: #1967D2;\n",
              "      --hover-bg-color: #E2EBFA;\n",
              "      --hover-fill-color: #174EA6;\n",
              "      --disabled-fill-color: #AAA;\n",
              "      --disabled-bg-color: #DDD;\n",
              "  }\n",
              "\n",
              "  [theme=dark] .colab-df-quickchart {\n",
              "      --bg-color: #3B4455;\n",
              "      --fill-color: #D2E3FC;\n",
              "      --hover-bg-color: #434B5C;\n",
              "      --hover-fill-color: #FFFFFF;\n",
              "      --disabled-bg-color: #3B4455;\n",
              "      --disabled-fill-color: #666;\n",
              "  }\n",
              "\n",
              "  .colab-df-quickchart {\n",
              "    background-color: var(--bg-color);\n",
              "    border: none;\n",
              "    border-radius: 50%;\n",
              "    cursor: pointer;\n",
              "    display: none;\n",
              "    fill: var(--fill-color);\n",
              "    height: 32px;\n",
              "    padding: 0;\n",
              "    width: 32px;\n",
              "  }\n",
              "\n",
              "  .colab-df-quickchart:hover {\n",
              "    background-color: var(--hover-bg-color);\n",
              "    box-shadow: 0 1px 2px rgba(60, 64, 67, 0.3), 0 1px 3px 1px rgba(60, 64, 67, 0.15);\n",
              "    fill: var(--button-hover-fill-color);\n",
              "  }\n",
              "\n",
              "  .colab-df-quickchart-complete:disabled,\n",
              "  .colab-df-quickchart-complete:disabled:hover {\n",
              "    background-color: var(--disabled-bg-color);\n",
              "    fill: var(--disabled-fill-color);\n",
              "    box-shadow: none;\n",
              "  }\n",
              "\n",
              "  .colab-df-spinner {\n",
              "    border: 2px solid var(--fill-color);\n",
              "    border-color: transparent;\n",
              "    border-bottom-color: var(--fill-color);\n",
              "    animation:\n",
              "      spin 1s steps(1) infinite;\n",
              "  }\n",
              "\n",
              "  @keyframes spin {\n",
              "    0% {\n",
              "      border-color: transparent;\n",
              "      border-bottom-color: var(--fill-color);\n",
              "      border-left-color: var(--fill-color);\n",
              "    }\n",
              "    20% {\n",
              "      border-color: transparent;\n",
              "      border-left-color: var(--fill-color);\n",
              "      border-top-color: var(--fill-color);\n",
              "    }\n",
              "    30% {\n",
              "      border-color: transparent;\n",
              "      border-left-color: var(--fill-color);\n",
              "      border-top-color: var(--fill-color);\n",
              "      border-right-color: var(--fill-color);\n",
              "    }\n",
              "    40% {\n",
              "      border-color: transparent;\n",
              "      border-right-color: var(--fill-color);\n",
              "      border-top-color: var(--fill-color);\n",
              "    }\n",
              "    60% {\n",
              "      border-color: transparent;\n",
              "      border-right-color: var(--fill-color);\n",
              "    }\n",
              "    80% {\n",
              "      border-color: transparent;\n",
              "      border-right-color: var(--fill-color);\n",
              "      border-bottom-color: var(--fill-color);\n",
              "    }\n",
              "    90% {\n",
              "      border-color: transparent;\n",
              "      border-bottom-color: var(--fill-color);\n",
              "    }\n",
              "  }\n",
              "</style>\n",
              "\n",
              "  <script>\n",
              "    async function quickchart(key) {\n",
              "      const quickchartButtonEl =\n",
              "        document.querySelector('#' + key + ' button');\n",
              "      quickchartButtonEl.disabled = true;  // To prevent multiple clicks.\n",
              "      quickchartButtonEl.classList.add('colab-df-spinner');\n",
              "      try {\n",
              "        const charts = await google.colab.kernel.invokeFunction(\n",
              "            'suggestCharts', [key], {});\n",
              "      } catch (error) {\n",
              "        console.error('Error during call to suggestCharts:', error);\n",
              "      }\n",
              "      quickchartButtonEl.classList.remove('colab-df-spinner');\n",
              "      quickchartButtonEl.classList.add('colab-df-quickchart-complete');\n",
              "    }\n",
              "    (() => {\n",
              "      let quickchartButtonEl =\n",
              "        document.querySelector('#df-facc5f09-f49d-4337-b251-e175c3c5dcdf button');\n",
              "      quickchartButtonEl.style.display =\n",
              "        google.colab.kernel.accessAllowed ? 'block' : 'none';\n",
              "    })();\n",
              "  </script>\n",
              "</div>\n",
              "\n",
              "  <div id=\"id_282175aa-23db-44aa-a46a-5498ec235f17\">\n",
              "    <style>\n",
              "      .colab-df-generate {\n",
              "        background-color: #E8F0FE;\n",
              "        border: none;\n",
              "        border-radius: 50%;\n",
              "        cursor: pointer;\n",
              "        display: none;\n",
              "        fill: #1967D2;\n",
              "        height: 32px;\n",
              "        padding: 0 0 0 0;\n",
              "        width: 32px;\n",
              "      }\n",
              "\n",
              "      .colab-df-generate:hover {\n",
              "        background-color: #E2EBFA;\n",
              "        box-shadow: 0px 1px 2px rgba(60, 64, 67, 0.3), 0px 1px 3px 1px rgba(60, 64, 67, 0.15);\n",
              "        fill: #174EA6;\n",
              "      }\n",
              "\n",
              "      [theme=dark] .colab-df-generate {\n",
              "        background-color: #3B4455;\n",
              "        fill: #D2E3FC;\n",
              "      }\n",
              "\n",
              "      [theme=dark] .colab-df-generate:hover {\n",
              "        background-color: #434B5C;\n",
              "        box-shadow: 0px 1px 3px 1px rgba(0, 0, 0, 0.15);\n",
              "        filter: drop-shadow(0px 1px 2px rgba(0, 0, 0, 0.3));\n",
              "        fill: #FFFFFF;\n",
              "      }\n",
              "    </style>\n",
              "    <button class=\"colab-df-generate\" onclick=\"generateWithVariable('data')\"\n",
              "            title=\"Generate code using this dataframe.\"\n",
              "            style=\"display:none;\">\n",
              "\n",
              "  <svg xmlns=\"http://www.w3.org/2000/svg\" height=\"24px\"viewBox=\"0 0 24 24\"\n",
              "       width=\"24px\">\n",
              "    <path d=\"M7,19H8.4L18.45,9,17,7.55,7,17.6ZM5,21V16.75L18.45,3.32a2,2,0,0,1,2.83,0l1.4,1.43a1.91,1.91,0,0,1,.58,1.4,1.91,1.91,0,0,1-.58,1.4L9.25,21ZM18.45,9,17,7.55Zm-12,3A5.31,5.31,0,0,0,4.9,8.1,5.31,5.31,0,0,0,1,6.5,5.31,5.31,0,0,0,4.9,4.9,5.31,5.31,0,0,0,6.5,1,5.31,5.31,0,0,0,8.1,4.9,5.31,5.31,0,0,0,12,6.5,5.46,5.46,0,0,0,6.5,12Z\"/>\n",
              "  </svg>\n",
              "    </button>\n",
              "    <script>\n",
              "      (() => {\n",
              "      const buttonEl =\n",
              "        document.querySelector('#id_282175aa-23db-44aa-a46a-5498ec235f17 button.colab-df-generate');\n",
              "      buttonEl.style.display =\n",
              "        google.colab.kernel.accessAllowed ? 'block' : 'none';\n",
              "\n",
              "      buttonEl.onclick = () => {\n",
              "        google.colab.notebook.generateWithVariable('data');\n",
              "      }\n",
              "      })();\n",
              "    </script>\n",
              "  </div>\n",
              "\n",
              "    </div>\n",
              "  </div>\n"
            ],
            "application/vnd.google.colaboratory.intrinsic+json": {
              "type": "dataframe",
              "variable_name": "data"
            }
          },
          "metadata": {},
          "execution_count": 2
        }
      ]
    },
    {
      "cell_type": "code",
      "source": [
        "print(\"Initial Dataset Preview:\")\n",
        "print(data.head())"
      ],
      "metadata": {
        "colab": {
          "base_uri": "https://localhost:8080/"
        },
        "id": "l429yTGNcTNu",
        "outputId": "cada1619-5092-44f6-e9c4-9909fbbc9909"
      },
      "execution_count": null,
      "outputs": [
        {
          "output_type": "stream",
          "name": "stdout",
          "text": [
            "Initial Dataset Preview:\n",
            "              Order ID      Date                        Status Fulfilment  \\\n",
            "0  405-8078784-5731545  04-30-22                     Cancelled   Merchant   \n",
            "1  171-9198151-1101146  04-30-22  Shipped - Delivered to Buyer   Merchant   \n",
            "2  404-0687676-7273146  04-30-22                       Shipped     Amazon   \n",
            "3  403-9615377-8133951  04-30-22                     Cancelled   Merchant   \n",
            "4  407-1069790-7240320  04-30-22                       Shipped     Amazon   \n",
            "\n",
            "  Sales Channel  ship-service-level    Style              SKU       Category  \\\n",
            "0      Amazon.in           Standard   SET389   SET389-KR-NP-S            Set   \n",
            "1      Amazon.in           Standard  JNE3781  JNE3781-KR-XXXL          kurta   \n",
            "2      Amazon.in          Expedited  JNE3371    JNE3371-KR-XL          kurta   \n",
            "3      Amazon.in           Standard    J0341       J0341-DR-L  Western Dress   \n",
            "4      Amazon.in          Expedited  JNE3671  JNE3671-TU-XXXL            Top   \n",
            "\n",
            "  Size  ... currency  Amount    ship-city   ship-state  ship-postal-code  \\\n",
            "0    S  ...      INR  647.62       MUMBAI  MAHARASHTRA          400081.0   \n",
            "1  3XL  ...      INR  406.00    BENGALURU    KARNATAKA          560085.0   \n",
            "2   XL  ...      INR  329.00  NAVI MUMBAI  MAHARASHTRA          410210.0   \n",
            "3    L  ...      INR  753.33   PUDUCHERRY   PUDUCHERRY          605008.0   \n",
            "4  3XL  ...      INR  574.00      CHENNAI   TAMIL NADU          600073.0   \n",
            "\n",
            "  ship-country                                      promotion-ids    B2B  \\\n",
            "0           IN                                                NaN  False   \n",
            "1           IN  Amazon PLCC Free-Financing Universal Merchant ...  False   \n",
            "2           IN       IN Core Free Shipping 2015/04/08 23-48-5-108   True   \n",
            "3           IN                                                NaN  False   \n",
            "4           IN                                                NaN  False   \n",
            "\n",
            "  fulfilled-by Unnamed: 22  \n",
            "0    Easy Ship         NaN  \n",
            "1    Easy Ship         NaN  \n",
            "2          NaN         NaN  \n",
            "3    Easy Ship         NaN  \n",
            "4          NaN         NaN  \n",
            "\n",
            "[5 rows x 23 columns]\n"
          ]
        }
      ]
    },
    {
      "cell_type": "code",
      "source": [
        "print(\"\\nSummary Statistics:\")\n",
        "data.describe()"
      ],
      "metadata": {
        "colab": {
          "base_uri": "https://localhost:8080/",
          "height": 335
        },
        "id": "-Tq59LGScrak",
        "outputId": "5765ef74-46a5-4d51-cebb-2d60496b9204"
      },
      "execution_count": null,
      "outputs": [
        {
          "output_type": "stream",
          "name": "stdout",
          "text": [
            "\n",
            "Summary Statistics:\n"
          ]
        },
        {
          "output_type": "execute_result",
          "data": {
            "text/plain": [
              "                 Qty         Amount  ship-postal-code\n",
              "count  128949.000000  121155.000000     128916.000000\n",
              "mean        0.904629     648.550806     463978.298008\n",
              "std         0.314782     281.218324     191473.322953\n",
              "min         0.000000       0.000000     110001.000000\n",
              "25%         1.000000     449.000000     382421.000000\n",
              "50%         1.000000     605.000000     500033.000000\n",
              "75%         1.000000     788.000000     600024.000000\n",
              "max        15.000000    5584.000000     989898.000000"
            ],
            "text/html": [
              "\n",
              "  <div id=\"df-8bb0f462-cd4e-44ff-8513-9847b41306c3\" class=\"colab-df-container\">\n",
              "    <div>\n",
              "<style scoped>\n",
              "    .dataframe tbody tr th:only-of-type {\n",
              "        vertical-align: middle;\n",
              "    }\n",
              "\n",
              "    .dataframe tbody tr th {\n",
              "        vertical-align: top;\n",
              "    }\n",
              "\n",
              "    .dataframe thead th {\n",
              "        text-align: right;\n",
              "    }\n",
              "</style>\n",
              "<table border=\"1\" class=\"dataframe\">\n",
              "  <thead>\n",
              "    <tr style=\"text-align: right;\">\n",
              "      <th></th>\n",
              "      <th>Qty</th>\n",
              "      <th>Amount</th>\n",
              "      <th>ship-postal-code</th>\n",
              "    </tr>\n",
              "  </thead>\n",
              "  <tbody>\n",
              "    <tr>\n",
              "      <th>count</th>\n",
              "      <td>128949.000000</td>\n",
              "      <td>121155.000000</td>\n",
              "      <td>128916.000000</td>\n",
              "    </tr>\n",
              "    <tr>\n",
              "      <th>mean</th>\n",
              "      <td>0.904629</td>\n",
              "      <td>648.550806</td>\n",
              "      <td>463978.298008</td>\n",
              "    </tr>\n",
              "    <tr>\n",
              "      <th>std</th>\n",
              "      <td>0.314782</td>\n",
              "      <td>281.218324</td>\n",
              "      <td>191473.322953</td>\n",
              "    </tr>\n",
              "    <tr>\n",
              "      <th>min</th>\n",
              "      <td>0.000000</td>\n",
              "      <td>0.000000</td>\n",
              "      <td>110001.000000</td>\n",
              "    </tr>\n",
              "    <tr>\n",
              "      <th>25%</th>\n",
              "      <td>1.000000</td>\n",
              "      <td>449.000000</td>\n",
              "      <td>382421.000000</td>\n",
              "    </tr>\n",
              "    <tr>\n",
              "      <th>50%</th>\n",
              "      <td>1.000000</td>\n",
              "      <td>605.000000</td>\n",
              "      <td>500033.000000</td>\n",
              "    </tr>\n",
              "    <tr>\n",
              "      <th>75%</th>\n",
              "      <td>1.000000</td>\n",
              "      <td>788.000000</td>\n",
              "      <td>600024.000000</td>\n",
              "    </tr>\n",
              "    <tr>\n",
              "      <th>max</th>\n",
              "      <td>15.000000</td>\n",
              "      <td>5584.000000</td>\n",
              "      <td>989898.000000</td>\n",
              "    </tr>\n",
              "  </tbody>\n",
              "</table>\n",
              "</div>\n",
              "    <div class=\"colab-df-buttons\">\n",
              "\n",
              "  <div class=\"colab-df-container\">\n",
              "    <button class=\"colab-df-convert\" onclick=\"convertToInteractive('df-8bb0f462-cd4e-44ff-8513-9847b41306c3')\"\n",
              "            title=\"Convert this dataframe to an interactive table.\"\n",
              "            style=\"display:none;\">\n",
              "\n",
              "  <svg xmlns=\"http://www.w3.org/2000/svg\" height=\"24px\" viewBox=\"0 -960 960 960\">\n",
              "    <path d=\"M120-120v-720h720v720H120Zm60-500h600v-160H180v160Zm220 220h160v-160H400v160Zm0 220h160v-160H400v160ZM180-400h160v-160H180v160Zm440 0h160v-160H620v160ZM180-180h160v-160H180v160Zm440 0h160v-160H620v160Z\"/>\n",
              "  </svg>\n",
              "    </button>\n",
              "\n",
              "  <style>\n",
              "    .colab-df-container {\n",
              "      display:flex;\n",
              "      gap: 12px;\n",
              "    }\n",
              "\n",
              "    .colab-df-convert {\n",
              "      background-color: #E8F0FE;\n",
              "      border: none;\n",
              "      border-radius: 50%;\n",
              "      cursor: pointer;\n",
              "      display: none;\n",
              "      fill: #1967D2;\n",
              "      height: 32px;\n",
              "      padding: 0 0 0 0;\n",
              "      width: 32px;\n",
              "    }\n",
              "\n",
              "    .colab-df-convert:hover {\n",
              "      background-color: #E2EBFA;\n",
              "      box-shadow: 0px 1px 2px rgba(60, 64, 67, 0.3), 0px 1px 3px 1px rgba(60, 64, 67, 0.15);\n",
              "      fill: #174EA6;\n",
              "    }\n",
              "\n",
              "    .colab-df-buttons div {\n",
              "      margin-bottom: 4px;\n",
              "    }\n",
              "\n",
              "    [theme=dark] .colab-df-convert {\n",
              "      background-color: #3B4455;\n",
              "      fill: #D2E3FC;\n",
              "    }\n",
              "\n",
              "    [theme=dark] .colab-df-convert:hover {\n",
              "      background-color: #434B5C;\n",
              "      box-shadow: 0px 1px 3px 1px rgba(0, 0, 0, 0.15);\n",
              "      filter: drop-shadow(0px 1px 2px rgba(0, 0, 0, 0.3));\n",
              "      fill: #FFFFFF;\n",
              "    }\n",
              "  </style>\n",
              "\n",
              "    <script>\n",
              "      const buttonEl =\n",
              "        document.querySelector('#df-8bb0f462-cd4e-44ff-8513-9847b41306c3 button.colab-df-convert');\n",
              "      buttonEl.style.display =\n",
              "        google.colab.kernel.accessAllowed ? 'block' : 'none';\n",
              "\n",
              "      async function convertToInteractive(key) {\n",
              "        const element = document.querySelector('#df-8bb0f462-cd4e-44ff-8513-9847b41306c3');\n",
              "        const dataTable =\n",
              "          await google.colab.kernel.invokeFunction('convertToInteractive',\n",
              "                                                    [key], {});\n",
              "        if (!dataTable) return;\n",
              "\n",
              "        const docLinkHtml = 'Like what you see? Visit the ' +\n",
              "          '<a target=\"_blank\" href=https://colab.research.google.com/notebooks/data_table.ipynb>data table notebook</a>'\n",
              "          + ' to learn more about interactive tables.';\n",
              "        element.innerHTML = '';\n",
              "        dataTable['output_type'] = 'display_data';\n",
              "        await google.colab.output.renderOutput(dataTable, element);\n",
              "        const docLink = document.createElement('div');\n",
              "        docLink.innerHTML = docLinkHtml;\n",
              "        element.appendChild(docLink);\n",
              "      }\n",
              "    </script>\n",
              "  </div>\n",
              "\n",
              "\n",
              "<div id=\"df-c9c4214a-963c-4136-b2cd-749bf89adbb4\">\n",
              "  <button class=\"colab-df-quickchart\" onclick=\"quickchart('df-c9c4214a-963c-4136-b2cd-749bf89adbb4')\"\n",
              "            title=\"Suggest charts\"\n",
              "            style=\"display:none;\">\n",
              "\n",
              "<svg xmlns=\"http://www.w3.org/2000/svg\" height=\"24px\"viewBox=\"0 0 24 24\"\n",
              "     width=\"24px\">\n",
              "    <g>\n",
              "        <path d=\"M19 3H5c-1.1 0-2 .9-2 2v14c0 1.1.9 2 2 2h14c1.1 0 2-.9 2-2V5c0-1.1-.9-2-2-2zM9 17H7v-7h2v7zm4 0h-2V7h2v10zm4 0h-2v-4h2v4z\"/>\n",
              "    </g>\n",
              "</svg>\n",
              "  </button>\n",
              "\n",
              "<style>\n",
              "  .colab-df-quickchart {\n",
              "      --bg-color: #E8F0FE;\n",
              "      --fill-color: #1967D2;\n",
              "      --hover-bg-color: #E2EBFA;\n",
              "      --hover-fill-color: #174EA6;\n",
              "      --disabled-fill-color: #AAA;\n",
              "      --disabled-bg-color: #DDD;\n",
              "  }\n",
              "\n",
              "  [theme=dark] .colab-df-quickchart {\n",
              "      --bg-color: #3B4455;\n",
              "      --fill-color: #D2E3FC;\n",
              "      --hover-bg-color: #434B5C;\n",
              "      --hover-fill-color: #FFFFFF;\n",
              "      --disabled-bg-color: #3B4455;\n",
              "      --disabled-fill-color: #666;\n",
              "  }\n",
              "\n",
              "  .colab-df-quickchart {\n",
              "    background-color: var(--bg-color);\n",
              "    border: none;\n",
              "    border-radius: 50%;\n",
              "    cursor: pointer;\n",
              "    display: none;\n",
              "    fill: var(--fill-color);\n",
              "    height: 32px;\n",
              "    padding: 0;\n",
              "    width: 32px;\n",
              "  }\n",
              "\n",
              "  .colab-df-quickchart:hover {\n",
              "    background-color: var(--hover-bg-color);\n",
              "    box-shadow: 0 1px 2px rgba(60, 64, 67, 0.3), 0 1px 3px 1px rgba(60, 64, 67, 0.15);\n",
              "    fill: var(--button-hover-fill-color);\n",
              "  }\n",
              "\n",
              "  .colab-df-quickchart-complete:disabled,\n",
              "  .colab-df-quickchart-complete:disabled:hover {\n",
              "    background-color: var(--disabled-bg-color);\n",
              "    fill: var(--disabled-fill-color);\n",
              "    box-shadow: none;\n",
              "  }\n",
              "\n",
              "  .colab-df-spinner {\n",
              "    border: 2px solid var(--fill-color);\n",
              "    border-color: transparent;\n",
              "    border-bottom-color: var(--fill-color);\n",
              "    animation:\n",
              "      spin 1s steps(1) infinite;\n",
              "  }\n",
              "\n",
              "  @keyframes spin {\n",
              "    0% {\n",
              "      border-color: transparent;\n",
              "      border-bottom-color: var(--fill-color);\n",
              "      border-left-color: var(--fill-color);\n",
              "    }\n",
              "    20% {\n",
              "      border-color: transparent;\n",
              "      border-left-color: var(--fill-color);\n",
              "      border-top-color: var(--fill-color);\n",
              "    }\n",
              "    30% {\n",
              "      border-color: transparent;\n",
              "      border-left-color: var(--fill-color);\n",
              "      border-top-color: var(--fill-color);\n",
              "      border-right-color: var(--fill-color);\n",
              "    }\n",
              "    40% {\n",
              "      border-color: transparent;\n",
              "      border-right-color: var(--fill-color);\n",
              "      border-top-color: var(--fill-color);\n",
              "    }\n",
              "    60% {\n",
              "      border-color: transparent;\n",
              "      border-right-color: var(--fill-color);\n",
              "    }\n",
              "    80% {\n",
              "      border-color: transparent;\n",
              "      border-right-color: var(--fill-color);\n",
              "      border-bottom-color: var(--fill-color);\n",
              "    }\n",
              "    90% {\n",
              "      border-color: transparent;\n",
              "      border-bottom-color: var(--fill-color);\n",
              "    }\n",
              "  }\n",
              "</style>\n",
              "\n",
              "  <script>\n",
              "    async function quickchart(key) {\n",
              "      const quickchartButtonEl =\n",
              "        document.querySelector('#' + key + ' button');\n",
              "      quickchartButtonEl.disabled = true;  // To prevent multiple clicks.\n",
              "      quickchartButtonEl.classList.add('colab-df-spinner');\n",
              "      try {\n",
              "        const charts = await google.colab.kernel.invokeFunction(\n",
              "            'suggestCharts', [key], {});\n",
              "      } catch (error) {\n",
              "        console.error('Error during call to suggestCharts:', error);\n",
              "      }\n",
              "      quickchartButtonEl.classList.remove('colab-df-spinner');\n",
              "      quickchartButtonEl.classList.add('colab-df-quickchart-complete');\n",
              "    }\n",
              "    (() => {\n",
              "      let quickchartButtonEl =\n",
              "        document.querySelector('#df-c9c4214a-963c-4136-b2cd-749bf89adbb4 button');\n",
              "      quickchartButtonEl.style.display =\n",
              "        google.colab.kernel.accessAllowed ? 'block' : 'none';\n",
              "    })();\n",
              "  </script>\n",
              "</div>\n",
              "\n",
              "    </div>\n",
              "  </div>\n"
            ],
            "application/vnd.google.colaboratory.intrinsic+json": {
              "type": "dataframe",
              "summary": "{\n  \"name\": \"data\",\n  \"rows\": 8,\n  \"fields\": [\n    {\n      \"column\": \"Qty\",\n      \"properties\": {\n        \"dtype\": \"number\",\n        \"std\": 45589.385712774645,\n        \"min\": 0.0,\n        \"max\": 128949.0,\n        \"num_unique_values\": 6,\n        \"samples\": [\n          128949.0,\n          0.9046289618376258,\n          15.0\n        ],\n        \"semantic_type\": \"\",\n        \"description\": \"\"\n      }\n    },\n    {\n      \"column\": \"Amount\",\n      \"properties\": {\n        \"dtype\": \"number\",\n        \"std\": 42451.27196106816,\n        \"min\": 0.0,\n        \"max\": 121155.0,\n        \"num_unique_values\": 8,\n        \"samples\": [\n          648.5508063224795,\n          605.0,\n          121155.0\n        ],\n        \"semantic_type\": \"\",\n        \"description\": \"\"\n      }\n    },\n    {\n      \"column\": \"ship-postal-code\",\n      \"properties\": {\n        \"dtype\": \"number\",\n        \"std\": 292768.0590857777,\n        \"min\": 110001.0,\n        \"max\": 989898.0,\n        \"num_unique_values\": 8,\n        \"samples\": [\n          463978.2980080052,\n          500033.0,\n          128916.0\n        ],\n        \"semantic_type\": \"\",\n        \"description\": \"\"\n      }\n    }\n  ]\n}"
            }
          },
          "metadata": {},
          "execution_count": 5
        }
      ]
    },
    {
      "cell_type": "markdown",
      "source": [
        "*Remove_duplicate_rows*"
      ],
      "metadata": {
        "id": "KQXXWXQrjRdH"
      }
    },
    {
      "cell_type": "code",
      "source": [
        "data_removed = data.drop_duplicates()\n",
        "data_removed\n"
      ],
      "metadata": {
        "colab": {
          "base_uri": "https://localhost:8080/",
          "height": 999
        },
        "id": "ABWhs6L_ftQw",
        "outputId": "22c4635e-7d56-48d5-d063-b2f1698fcc19"
      },
      "execution_count": null,
      "outputs": [
        {
          "output_type": "execute_result",
          "data": {
            "text/plain": [
              "                   Order ID      Date                        Status  \\\n",
              "0       405-8078784-5731545  04-30-22                     Cancelled   \n",
              "1       171-9198151-1101146  04-30-22  Shipped - Delivered to Buyer   \n",
              "2       404-0687676-7273146  04-30-22                       Shipped   \n",
              "3       403-9615377-8133951  04-30-22                     Cancelled   \n",
              "4       407-1069790-7240320  04-30-22                       Shipped   \n",
              "...                     ...       ...                           ...   \n",
              "128944  406-6001380-7673107  05-31-22                       Shipped   \n",
              "128945  402-9551604-7544318  05-31-22                     Cancelled   \n",
              "128946  407-9547469-3152358  05-31-22                       Shipped   \n",
              "128947  402-6184140-0545956  05-31-22                       Shipped   \n",
              "128948  408-7436540-8728312  05-31-22                       Shipped   \n",
              "\n",
              "       Fulfilment Sales Channel  ship-service-level    Style              SKU  \\\n",
              "0        Merchant      Amazon.in           Standard   SET389   SET389-KR-NP-S   \n",
              "1        Merchant      Amazon.in           Standard  JNE3781  JNE3781-KR-XXXL   \n",
              "2          Amazon      Amazon.in          Expedited  JNE3371    JNE3371-KR-XL   \n",
              "3        Merchant      Amazon.in           Standard    J0341       J0341-DR-L   \n",
              "4          Amazon      Amazon.in          Expedited  JNE3671  JNE3671-TU-XXXL   \n",
              "...           ...            ...                ...      ...              ...   \n",
              "128944     Amazon      Amazon.in          Expedited  JNE3697    JNE3697-KR-XL   \n",
              "128945     Amazon      Amazon.in          Expedited   SET401   SET401-KR-NP-M   \n",
              "128946     Amazon      Amazon.in          Expedited    J0157     J0157-DR-XXL   \n",
              "128947     Amazon      Amazon.in          Expedited    J0012     J0012-SKD-XS   \n",
              "128948     Amazon      Amazon.in          Expedited    J0003      J0003-SET-S   \n",
              "\n",
              "             Category Size  ... currency   Amount    ship-city    ship-state  \\\n",
              "0                 Set    S  ...      INR   647.62       MUMBAI   MAHARASHTRA   \n",
              "1               kurta  3XL  ...      INR   406.00    BENGALURU     KARNATAKA   \n",
              "2               kurta   XL  ...      INR   329.00  NAVI MUMBAI   MAHARASHTRA   \n",
              "3       Western Dress    L  ...      INR   753.33   PUDUCHERRY    PUDUCHERRY   \n",
              "4                 Top  3XL  ...      INR   574.00      CHENNAI    TAMIL NADU   \n",
              "...               ...  ...  ...      ...      ...          ...           ...   \n",
              "128944          kurta   XL  ...      INR   517.00    HYDERABAD     TELANGANA   \n",
              "128945            Set    M  ...      INR   999.00     GURUGRAM       HARYANA   \n",
              "128946  Western Dress  XXL  ...      INR   690.00    HYDERABAD     TELANGANA   \n",
              "128947            Set   XS  ...      INR  1199.00        Halol       Gujarat   \n",
              "128948            Set    S  ...      INR   696.00       Raipur  CHHATTISGARH   \n",
              "\n",
              "        ship-postal-code ship-country  \\\n",
              "0               400081.0           IN   \n",
              "1               560085.0           IN   \n",
              "2               410210.0           IN   \n",
              "3               605008.0           IN   \n",
              "4               600073.0           IN   \n",
              "...                  ...          ...   \n",
              "128944          500013.0           IN   \n",
              "128945          122004.0           IN   \n",
              "128946          500049.0           IN   \n",
              "128947          389350.0           IN   \n",
              "128948          492014.0           IN   \n",
              "\n",
              "                                            promotion-ids    B2B fulfilled-by  \\\n",
              "0                                                     NaN  False    Easy Ship   \n",
              "1       Amazon PLCC Free-Financing Universal Merchant ...  False    Easy Ship   \n",
              "2            IN Core Free Shipping 2015/04/08 23-48-5-108   True          NaN   \n",
              "3                                                     NaN  False    Easy Ship   \n",
              "4                                                     NaN  False          NaN   \n",
              "...                                                   ...    ...          ...   \n",
              "128944                                                NaN  False          NaN   \n",
              "128945       IN Core Free Shipping 2015/04/08 23-48-5-108  False          NaN   \n",
              "128946                                                NaN  False          NaN   \n",
              "128947       IN Core Free Shipping 2015/04/08 23-48-5-108  False          NaN   \n",
              "128948       IN Core Free Shipping 2015/04/08 23-48-5-108  False          NaN   \n",
              "\n",
              "       Unnamed: 22  \n",
              "0              NaN  \n",
              "1              NaN  \n",
              "2              NaN  \n",
              "3              NaN  \n",
              "4              NaN  \n",
              "...            ...  \n",
              "128944       False  \n",
              "128945       False  \n",
              "128946       False  \n",
              "128947       False  \n",
              "128948       False  \n",
              "\n",
              "[128943 rows x 23 columns]"
            ],
            "text/html": [
              "\n",
              "  <div id=\"df-db6bac87-7f2e-4ddf-8853-b7ed3317fed8\" class=\"colab-df-container\">\n",
              "    <div>\n",
              "<style scoped>\n",
              "    .dataframe tbody tr th:only-of-type {\n",
              "        vertical-align: middle;\n",
              "    }\n",
              "\n",
              "    .dataframe tbody tr th {\n",
              "        vertical-align: top;\n",
              "    }\n",
              "\n",
              "    .dataframe thead th {\n",
              "        text-align: right;\n",
              "    }\n",
              "</style>\n",
              "<table border=\"1\" class=\"dataframe\">\n",
              "  <thead>\n",
              "    <tr style=\"text-align: right;\">\n",
              "      <th></th>\n",
              "      <th>Order ID</th>\n",
              "      <th>Date</th>\n",
              "      <th>Status</th>\n",
              "      <th>Fulfilment</th>\n",
              "      <th>Sales Channel</th>\n",
              "      <th>ship-service-level</th>\n",
              "      <th>Style</th>\n",
              "      <th>SKU</th>\n",
              "      <th>Category</th>\n",
              "      <th>Size</th>\n",
              "      <th>...</th>\n",
              "      <th>currency</th>\n",
              "      <th>Amount</th>\n",
              "      <th>ship-city</th>\n",
              "      <th>ship-state</th>\n",
              "      <th>ship-postal-code</th>\n",
              "      <th>ship-country</th>\n",
              "      <th>promotion-ids</th>\n",
              "      <th>B2B</th>\n",
              "      <th>fulfilled-by</th>\n",
              "      <th>Unnamed: 22</th>\n",
              "    </tr>\n",
              "  </thead>\n",
              "  <tbody>\n",
              "    <tr>\n",
              "      <th>0</th>\n",
              "      <td>405-8078784-5731545</td>\n",
              "      <td>04-30-22</td>\n",
              "      <td>Cancelled</td>\n",
              "      <td>Merchant</td>\n",
              "      <td>Amazon.in</td>\n",
              "      <td>Standard</td>\n",
              "      <td>SET389</td>\n",
              "      <td>SET389-KR-NP-S</td>\n",
              "      <td>Set</td>\n",
              "      <td>S</td>\n",
              "      <td>...</td>\n",
              "      <td>INR</td>\n",
              "      <td>647.62</td>\n",
              "      <td>MUMBAI</td>\n",
              "      <td>MAHARASHTRA</td>\n",
              "      <td>400081.0</td>\n",
              "      <td>IN</td>\n",
              "      <td>NaN</td>\n",
              "      <td>False</td>\n",
              "      <td>Easy Ship</td>\n",
              "      <td>NaN</td>\n",
              "    </tr>\n",
              "    <tr>\n",
              "      <th>1</th>\n",
              "      <td>171-9198151-1101146</td>\n",
              "      <td>04-30-22</td>\n",
              "      <td>Shipped - Delivered to Buyer</td>\n",
              "      <td>Merchant</td>\n",
              "      <td>Amazon.in</td>\n",
              "      <td>Standard</td>\n",
              "      <td>JNE3781</td>\n",
              "      <td>JNE3781-KR-XXXL</td>\n",
              "      <td>kurta</td>\n",
              "      <td>3XL</td>\n",
              "      <td>...</td>\n",
              "      <td>INR</td>\n",
              "      <td>406.00</td>\n",
              "      <td>BENGALURU</td>\n",
              "      <td>KARNATAKA</td>\n",
              "      <td>560085.0</td>\n",
              "      <td>IN</td>\n",
              "      <td>Amazon PLCC Free-Financing Universal Merchant ...</td>\n",
              "      <td>False</td>\n",
              "      <td>Easy Ship</td>\n",
              "      <td>NaN</td>\n",
              "    </tr>\n",
              "    <tr>\n",
              "      <th>2</th>\n",
              "      <td>404-0687676-7273146</td>\n",
              "      <td>04-30-22</td>\n",
              "      <td>Shipped</td>\n",
              "      <td>Amazon</td>\n",
              "      <td>Amazon.in</td>\n",
              "      <td>Expedited</td>\n",
              "      <td>JNE3371</td>\n",
              "      <td>JNE3371-KR-XL</td>\n",
              "      <td>kurta</td>\n",
              "      <td>XL</td>\n",
              "      <td>...</td>\n",
              "      <td>INR</td>\n",
              "      <td>329.00</td>\n",
              "      <td>NAVI MUMBAI</td>\n",
              "      <td>MAHARASHTRA</td>\n",
              "      <td>410210.0</td>\n",
              "      <td>IN</td>\n",
              "      <td>IN Core Free Shipping 2015/04/08 23-48-5-108</td>\n",
              "      <td>True</td>\n",
              "      <td>NaN</td>\n",
              "      <td>NaN</td>\n",
              "    </tr>\n",
              "    <tr>\n",
              "      <th>3</th>\n",
              "      <td>403-9615377-8133951</td>\n",
              "      <td>04-30-22</td>\n",
              "      <td>Cancelled</td>\n",
              "      <td>Merchant</td>\n",
              "      <td>Amazon.in</td>\n",
              "      <td>Standard</td>\n",
              "      <td>J0341</td>\n",
              "      <td>J0341-DR-L</td>\n",
              "      <td>Western Dress</td>\n",
              "      <td>L</td>\n",
              "      <td>...</td>\n",
              "      <td>INR</td>\n",
              "      <td>753.33</td>\n",
              "      <td>PUDUCHERRY</td>\n",
              "      <td>PUDUCHERRY</td>\n",
              "      <td>605008.0</td>\n",
              "      <td>IN</td>\n",
              "      <td>NaN</td>\n",
              "      <td>False</td>\n",
              "      <td>Easy Ship</td>\n",
              "      <td>NaN</td>\n",
              "    </tr>\n",
              "    <tr>\n",
              "      <th>4</th>\n",
              "      <td>407-1069790-7240320</td>\n",
              "      <td>04-30-22</td>\n",
              "      <td>Shipped</td>\n",
              "      <td>Amazon</td>\n",
              "      <td>Amazon.in</td>\n",
              "      <td>Expedited</td>\n",
              "      <td>JNE3671</td>\n",
              "      <td>JNE3671-TU-XXXL</td>\n",
              "      <td>Top</td>\n",
              "      <td>3XL</td>\n",
              "      <td>...</td>\n",
              "      <td>INR</td>\n",
              "      <td>574.00</td>\n",
              "      <td>CHENNAI</td>\n",
              "      <td>TAMIL NADU</td>\n",
              "      <td>600073.0</td>\n",
              "      <td>IN</td>\n",
              "      <td>NaN</td>\n",
              "      <td>False</td>\n",
              "      <td>NaN</td>\n",
              "      <td>NaN</td>\n",
              "    </tr>\n",
              "    <tr>\n",
              "      <th>...</th>\n",
              "      <td>...</td>\n",
              "      <td>...</td>\n",
              "      <td>...</td>\n",
              "      <td>...</td>\n",
              "      <td>...</td>\n",
              "      <td>...</td>\n",
              "      <td>...</td>\n",
              "      <td>...</td>\n",
              "      <td>...</td>\n",
              "      <td>...</td>\n",
              "      <td>...</td>\n",
              "      <td>...</td>\n",
              "      <td>...</td>\n",
              "      <td>...</td>\n",
              "      <td>...</td>\n",
              "      <td>...</td>\n",
              "      <td>...</td>\n",
              "      <td>...</td>\n",
              "      <td>...</td>\n",
              "      <td>...</td>\n",
              "      <td>...</td>\n",
              "    </tr>\n",
              "    <tr>\n",
              "      <th>128944</th>\n",
              "      <td>406-6001380-7673107</td>\n",
              "      <td>05-31-22</td>\n",
              "      <td>Shipped</td>\n",
              "      <td>Amazon</td>\n",
              "      <td>Amazon.in</td>\n",
              "      <td>Expedited</td>\n",
              "      <td>JNE3697</td>\n",
              "      <td>JNE3697-KR-XL</td>\n",
              "      <td>kurta</td>\n",
              "      <td>XL</td>\n",
              "      <td>...</td>\n",
              "      <td>INR</td>\n",
              "      <td>517.00</td>\n",
              "      <td>HYDERABAD</td>\n",
              "      <td>TELANGANA</td>\n",
              "      <td>500013.0</td>\n",
              "      <td>IN</td>\n",
              "      <td>NaN</td>\n",
              "      <td>False</td>\n",
              "      <td>NaN</td>\n",
              "      <td>False</td>\n",
              "    </tr>\n",
              "    <tr>\n",
              "      <th>128945</th>\n",
              "      <td>402-9551604-7544318</td>\n",
              "      <td>05-31-22</td>\n",
              "      <td>Cancelled</td>\n",
              "      <td>Amazon</td>\n",
              "      <td>Amazon.in</td>\n",
              "      <td>Expedited</td>\n",
              "      <td>SET401</td>\n",
              "      <td>SET401-KR-NP-M</td>\n",
              "      <td>Set</td>\n",
              "      <td>M</td>\n",
              "      <td>...</td>\n",
              "      <td>INR</td>\n",
              "      <td>999.00</td>\n",
              "      <td>GURUGRAM</td>\n",
              "      <td>HARYANA</td>\n",
              "      <td>122004.0</td>\n",
              "      <td>IN</td>\n",
              "      <td>IN Core Free Shipping 2015/04/08 23-48-5-108</td>\n",
              "      <td>False</td>\n",
              "      <td>NaN</td>\n",
              "      <td>False</td>\n",
              "    </tr>\n",
              "    <tr>\n",
              "      <th>128946</th>\n",
              "      <td>407-9547469-3152358</td>\n",
              "      <td>05-31-22</td>\n",
              "      <td>Shipped</td>\n",
              "      <td>Amazon</td>\n",
              "      <td>Amazon.in</td>\n",
              "      <td>Expedited</td>\n",
              "      <td>J0157</td>\n",
              "      <td>J0157-DR-XXL</td>\n",
              "      <td>Western Dress</td>\n",
              "      <td>XXL</td>\n",
              "      <td>...</td>\n",
              "      <td>INR</td>\n",
              "      <td>690.00</td>\n",
              "      <td>HYDERABAD</td>\n",
              "      <td>TELANGANA</td>\n",
              "      <td>500049.0</td>\n",
              "      <td>IN</td>\n",
              "      <td>NaN</td>\n",
              "      <td>False</td>\n",
              "      <td>NaN</td>\n",
              "      <td>False</td>\n",
              "    </tr>\n",
              "    <tr>\n",
              "      <th>128947</th>\n",
              "      <td>402-6184140-0545956</td>\n",
              "      <td>05-31-22</td>\n",
              "      <td>Shipped</td>\n",
              "      <td>Amazon</td>\n",
              "      <td>Amazon.in</td>\n",
              "      <td>Expedited</td>\n",
              "      <td>J0012</td>\n",
              "      <td>J0012-SKD-XS</td>\n",
              "      <td>Set</td>\n",
              "      <td>XS</td>\n",
              "      <td>...</td>\n",
              "      <td>INR</td>\n",
              "      <td>1199.00</td>\n",
              "      <td>Halol</td>\n",
              "      <td>Gujarat</td>\n",
              "      <td>389350.0</td>\n",
              "      <td>IN</td>\n",
              "      <td>IN Core Free Shipping 2015/04/08 23-48-5-108</td>\n",
              "      <td>False</td>\n",
              "      <td>NaN</td>\n",
              "      <td>False</td>\n",
              "    </tr>\n",
              "    <tr>\n",
              "      <th>128948</th>\n",
              "      <td>408-7436540-8728312</td>\n",
              "      <td>05-31-22</td>\n",
              "      <td>Shipped</td>\n",
              "      <td>Amazon</td>\n",
              "      <td>Amazon.in</td>\n",
              "      <td>Expedited</td>\n",
              "      <td>J0003</td>\n",
              "      <td>J0003-SET-S</td>\n",
              "      <td>Set</td>\n",
              "      <td>S</td>\n",
              "      <td>...</td>\n",
              "      <td>INR</td>\n",
              "      <td>696.00</td>\n",
              "      <td>Raipur</td>\n",
              "      <td>CHHATTISGARH</td>\n",
              "      <td>492014.0</td>\n",
              "      <td>IN</td>\n",
              "      <td>IN Core Free Shipping 2015/04/08 23-48-5-108</td>\n",
              "      <td>False</td>\n",
              "      <td>NaN</td>\n",
              "      <td>False</td>\n",
              "    </tr>\n",
              "  </tbody>\n",
              "</table>\n",
              "<p>128943 rows × 23 columns</p>\n",
              "</div>\n",
              "    <div class=\"colab-df-buttons\">\n",
              "\n",
              "  <div class=\"colab-df-container\">\n",
              "    <button class=\"colab-df-convert\" onclick=\"convertToInteractive('df-db6bac87-7f2e-4ddf-8853-b7ed3317fed8')\"\n",
              "            title=\"Convert this dataframe to an interactive table.\"\n",
              "            style=\"display:none;\">\n",
              "\n",
              "  <svg xmlns=\"http://www.w3.org/2000/svg\" height=\"24px\" viewBox=\"0 -960 960 960\">\n",
              "    <path d=\"M120-120v-720h720v720H120Zm60-500h600v-160H180v160Zm220 220h160v-160H400v160Zm0 220h160v-160H400v160ZM180-400h160v-160H180v160Zm440 0h160v-160H620v160ZM180-180h160v-160H180v160Zm440 0h160v-160H620v160Z\"/>\n",
              "  </svg>\n",
              "    </button>\n",
              "\n",
              "  <style>\n",
              "    .colab-df-container {\n",
              "      display:flex;\n",
              "      gap: 12px;\n",
              "    }\n",
              "\n",
              "    .colab-df-convert {\n",
              "      background-color: #E8F0FE;\n",
              "      border: none;\n",
              "      border-radius: 50%;\n",
              "      cursor: pointer;\n",
              "      display: none;\n",
              "      fill: #1967D2;\n",
              "      height: 32px;\n",
              "      padding: 0 0 0 0;\n",
              "      width: 32px;\n",
              "    }\n",
              "\n",
              "    .colab-df-convert:hover {\n",
              "      background-color: #E2EBFA;\n",
              "      box-shadow: 0px 1px 2px rgba(60, 64, 67, 0.3), 0px 1px 3px 1px rgba(60, 64, 67, 0.15);\n",
              "      fill: #174EA6;\n",
              "    }\n",
              "\n",
              "    .colab-df-buttons div {\n",
              "      margin-bottom: 4px;\n",
              "    }\n",
              "\n",
              "    [theme=dark] .colab-df-convert {\n",
              "      background-color: #3B4455;\n",
              "      fill: #D2E3FC;\n",
              "    }\n",
              "\n",
              "    [theme=dark] .colab-df-convert:hover {\n",
              "      background-color: #434B5C;\n",
              "      box-shadow: 0px 1px 3px 1px rgba(0, 0, 0, 0.15);\n",
              "      filter: drop-shadow(0px 1px 2px rgba(0, 0, 0, 0.3));\n",
              "      fill: #FFFFFF;\n",
              "    }\n",
              "  </style>\n",
              "\n",
              "    <script>\n",
              "      const buttonEl =\n",
              "        document.querySelector('#df-db6bac87-7f2e-4ddf-8853-b7ed3317fed8 button.colab-df-convert');\n",
              "      buttonEl.style.display =\n",
              "        google.colab.kernel.accessAllowed ? 'block' : 'none';\n",
              "\n",
              "      async function convertToInteractive(key) {\n",
              "        const element = document.querySelector('#df-db6bac87-7f2e-4ddf-8853-b7ed3317fed8');\n",
              "        const dataTable =\n",
              "          await google.colab.kernel.invokeFunction('convertToInteractive',\n",
              "                                                    [key], {});\n",
              "        if (!dataTable) return;\n",
              "\n",
              "        const docLinkHtml = 'Like what you see? Visit the ' +\n",
              "          '<a target=\"_blank\" href=https://colab.research.google.com/notebooks/data_table.ipynb>data table notebook</a>'\n",
              "          + ' to learn more about interactive tables.';\n",
              "        element.innerHTML = '';\n",
              "        dataTable['output_type'] = 'display_data';\n",
              "        await google.colab.output.renderOutput(dataTable, element);\n",
              "        const docLink = document.createElement('div');\n",
              "        docLink.innerHTML = docLinkHtml;\n",
              "        element.appendChild(docLink);\n",
              "      }\n",
              "    </script>\n",
              "  </div>\n",
              "\n",
              "\n",
              "<div id=\"df-77e607f6-06fd-4e6f-8f26-864f4ced7d6e\">\n",
              "  <button class=\"colab-df-quickchart\" onclick=\"quickchart('df-77e607f6-06fd-4e6f-8f26-864f4ced7d6e')\"\n",
              "            title=\"Suggest charts\"\n",
              "            style=\"display:none;\">\n",
              "\n",
              "<svg xmlns=\"http://www.w3.org/2000/svg\" height=\"24px\"viewBox=\"0 0 24 24\"\n",
              "     width=\"24px\">\n",
              "    <g>\n",
              "        <path d=\"M19 3H5c-1.1 0-2 .9-2 2v14c0 1.1.9 2 2 2h14c1.1 0 2-.9 2-2V5c0-1.1-.9-2-2-2zM9 17H7v-7h2v7zm4 0h-2V7h2v10zm4 0h-2v-4h2v4z\"/>\n",
              "    </g>\n",
              "</svg>\n",
              "  </button>\n",
              "\n",
              "<style>\n",
              "  .colab-df-quickchart {\n",
              "      --bg-color: #E8F0FE;\n",
              "      --fill-color: #1967D2;\n",
              "      --hover-bg-color: #E2EBFA;\n",
              "      --hover-fill-color: #174EA6;\n",
              "      --disabled-fill-color: #AAA;\n",
              "      --disabled-bg-color: #DDD;\n",
              "  }\n",
              "\n",
              "  [theme=dark] .colab-df-quickchart {\n",
              "      --bg-color: #3B4455;\n",
              "      --fill-color: #D2E3FC;\n",
              "      --hover-bg-color: #434B5C;\n",
              "      --hover-fill-color: #FFFFFF;\n",
              "      --disabled-bg-color: #3B4455;\n",
              "      --disabled-fill-color: #666;\n",
              "  }\n",
              "\n",
              "  .colab-df-quickchart {\n",
              "    background-color: var(--bg-color);\n",
              "    border: none;\n",
              "    border-radius: 50%;\n",
              "    cursor: pointer;\n",
              "    display: none;\n",
              "    fill: var(--fill-color);\n",
              "    height: 32px;\n",
              "    padding: 0;\n",
              "    width: 32px;\n",
              "  }\n",
              "\n",
              "  .colab-df-quickchart:hover {\n",
              "    background-color: var(--hover-bg-color);\n",
              "    box-shadow: 0 1px 2px rgba(60, 64, 67, 0.3), 0 1px 3px 1px rgba(60, 64, 67, 0.15);\n",
              "    fill: var(--button-hover-fill-color);\n",
              "  }\n",
              "\n",
              "  .colab-df-quickchart-complete:disabled,\n",
              "  .colab-df-quickchart-complete:disabled:hover {\n",
              "    background-color: var(--disabled-bg-color);\n",
              "    fill: var(--disabled-fill-color);\n",
              "    box-shadow: none;\n",
              "  }\n",
              "\n",
              "  .colab-df-spinner {\n",
              "    border: 2px solid var(--fill-color);\n",
              "    border-color: transparent;\n",
              "    border-bottom-color: var(--fill-color);\n",
              "    animation:\n",
              "      spin 1s steps(1) infinite;\n",
              "  }\n",
              "\n",
              "  @keyframes spin {\n",
              "    0% {\n",
              "      border-color: transparent;\n",
              "      border-bottom-color: var(--fill-color);\n",
              "      border-left-color: var(--fill-color);\n",
              "    }\n",
              "    20% {\n",
              "      border-color: transparent;\n",
              "      border-left-color: var(--fill-color);\n",
              "      border-top-color: var(--fill-color);\n",
              "    }\n",
              "    30% {\n",
              "      border-color: transparent;\n",
              "      border-left-color: var(--fill-color);\n",
              "      border-top-color: var(--fill-color);\n",
              "      border-right-color: var(--fill-color);\n",
              "    }\n",
              "    40% {\n",
              "      border-color: transparent;\n",
              "      border-right-color: var(--fill-color);\n",
              "      border-top-color: var(--fill-color);\n",
              "    }\n",
              "    60% {\n",
              "      border-color: transparent;\n",
              "      border-right-color: var(--fill-color);\n",
              "    }\n",
              "    80% {\n",
              "      border-color: transparent;\n",
              "      border-right-color: var(--fill-color);\n",
              "      border-bottom-color: var(--fill-color);\n",
              "    }\n",
              "    90% {\n",
              "      border-color: transparent;\n",
              "      border-bottom-color: var(--fill-color);\n",
              "    }\n",
              "  }\n",
              "</style>\n",
              "\n",
              "  <script>\n",
              "    async function quickchart(key) {\n",
              "      const quickchartButtonEl =\n",
              "        document.querySelector('#' + key + ' button');\n",
              "      quickchartButtonEl.disabled = true;  // To prevent multiple clicks.\n",
              "      quickchartButtonEl.classList.add('colab-df-spinner');\n",
              "      try {\n",
              "        const charts = await google.colab.kernel.invokeFunction(\n",
              "            'suggestCharts', [key], {});\n",
              "      } catch (error) {\n",
              "        console.error('Error during call to suggestCharts:', error);\n",
              "      }\n",
              "      quickchartButtonEl.classList.remove('colab-df-spinner');\n",
              "      quickchartButtonEl.classList.add('colab-df-quickchart-complete');\n",
              "    }\n",
              "    (() => {\n",
              "      let quickchartButtonEl =\n",
              "        document.querySelector('#df-77e607f6-06fd-4e6f-8f26-864f4ced7d6e button');\n",
              "      quickchartButtonEl.style.display =\n",
              "        google.colab.kernel.accessAllowed ? 'block' : 'none';\n",
              "    })();\n",
              "  </script>\n",
              "</div>\n",
              "\n",
              "  <div id=\"id_5b046ffc-77c7-4e49-8de3-8bee1471013f\">\n",
              "    <style>\n",
              "      .colab-df-generate {\n",
              "        background-color: #E8F0FE;\n",
              "        border: none;\n",
              "        border-radius: 50%;\n",
              "        cursor: pointer;\n",
              "        display: none;\n",
              "        fill: #1967D2;\n",
              "        height: 32px;\n",
              "        padding: 0 0 0 0;\n",
              "        width: 32px;\n",
              "      }\n",
              "\n",
              "      .colab-df-generate:hover {\n",
              "        background-color: #E2EBFA;\n",
              "        box-shadow: 0px 1px 2px rgba(60, 64, 67, 0.3), 0px 1px 3px 1px rgba(60, 64, 67, 0.15);\n",
              "        fill: #174EA6;\n",
              "      }\n",
              "\n",
              "      [theme=dark] .colab-df-generate {\n",
              "        background-color: #3B4455;\n",
              "        fill: #D2E3FC;\n",
              "      }\n",
              "\n",
              "      [theme=dark] .colab-df-generate:hover {\n",
              "        background-color: #434B5C;\n",
              "        box-shadow: 0px 1px 3px 1px rgba(0, 0, 0, 0.15);\n",
              "        filter: drop-shadow(0px 1px 2px rgba(0, 0, 0, 0.3));\n",
              "        fill: #FFFFFF;\n",
              "      }\n",
              "    </style>\n",
              "    <button class=\"colab-df-generate\" onclick=\"generateWithVariable('data_removed')\"\n",
              "            title=\"Generate code using this dataframe.\"\n",
              "            style=\"display:none;\">\n",
              "\n",
              "  <svg xmlns=\"http://www.w3.org/2000/svg\" height=\"24px\"viewBox=\"0 0 24 24\"\n",
              "       width=\"24px\">\n",
              "    <path d=\"M7,19H8.4L18.45,9,17,7.55,7,17.6ZM5,21V16.75L18.45,3.32a2,2,0,0,1,2.83,0l1.4,1.43a1.91,1.91,0,0,1,.58,1.4,1.91,1.91,0,0,1-.58,1.4L9.25,21ZM18.45,9,17,7.55Zm-12,3A5.31,5.31,0,0,0,4.9,8.1,5.31,5.31,0,0,0,1,6.5,5.31,5.31,0,0,0,4.9,4.9,5.31,5.31,0,0,0,6.5,1,5.31,5.31,0,0,0,8.1,4.9,5.31,5.31,0,0,0,12,6.5,5.46,5.46,0,0,0,6.5,12Z\"/>\n",
              "  </svg>\n",
              "    </button>\n",
              "    <script>\n",
              "      (() => {\n",
              "      const buttonEl =\n",
              "        document.querySelector('#id_5b046ffc-77c7-4e49-8de3-8bee1471013f button.colab-df-generate');\n",
              "      buttonEl.style.display =\n",
              "        google.colab.kernel.accessAllowed ? 'block' : 'none';\n",
              "\n",
              "      buttonEl.onclick = () => {\n",
              "        google.colab.notebook.generateWithVariable('data_removed');\n",
              "      }\n",
              "      })();\n",
              "    </script>\n",
              "  </div>\n",
              "\n",
              "    </div>\n",
              "  </div>\n"
            ],
            "application/vnd.google.colaboratory.intrinsic+json": {
              "type": "dataframe",
              "variable_name": "data_removed"
            }
          },
          "metadata": {},
          "execution_count": 6
        }
      ]
    },
    {
      "cell_type": "code",
      "source": [
        "data_removed.info()"
      ],
      "metadata": {
        "colab": {
          "base_uri": "https://localhost:8080/"
        },
        "id": "S1QL63KgkBnw",
        "outputId": "a0b873d7-8f67-4a8d-8c89-121f67d8c838"
      },
      "execution_count": null,
      "outputs": [
        {
          "output_type": "stream",
          "name": "stdout",
          "text": [
            "<class 'pandas.core.frame.DataFrame'>\n",
            "Index: 128943 entries, 0 to 128948\n",
            "Data columns (total 23 columns):\n",
            " #   Column              Non-Null Count   Dtype  \n",
            "---  ------              --------------   -----  \n",
            " 0   Order ID            128943 non-null  object \n",
            " 1   Date                128943 non-null  object \n",
            " 2   Status              128943 non-null  object \n",
            " 3   Fulfilment          128943 non-null  object \n",
            " 4   Sales Channel       128943 non-null  object \n",
            " 5   ship-service-level  128943 non-null  object \n",
            " 6   Style               128943 non-null  object \n",
            " 7   SKU                 128943 non-null  object \n",
            " 8   Category            128943 non-null  object \n",
            " 9   Size                128943 non-null  object \n",
            " 10  ASIN                128943 non-null  object \n",
            " 11  Courier Status      122072 non-null  object \n",
            " 12  Qty                 128943 non-null  int64  \n",
            " 13  currency            121152 non-null  object \n",
            " 14  Amount              121152 non-null  float64\n",
            " 15  ship-city           128910 non-null  object \n",
            " 16  ship-state          128910 non-null  object \n",
            " 17  ship-postal-code    128910 non-null  float64\n",
            " 18  ship-country        128910 non-null  object \n",
            " 19  promotion-ids       79804 non-null   object \n",
            " 20  B2B                 128943 non-null  bool   \n",
            " 21  fulfilled-by        39270 non-null   object \n",
            " 22  Unnamed: 22         79904 non-null   object \n",
            "dtypes: bool(1), float64(2), int64(1), object(19)\n",
            "memory usage: 22.7+ MB\n"
          ]
        }
      ]
    },
    {
      "cell_type": "markdown",
      "source": [
        "*Replace null values*"
      ],
      "metadata": {
        "id": "seGH2lY3ihZt"
      }
    },
    {
      "cell_type": "code",
      "source": [
        "data_replace =data_removed['Amount'] = data_removed['Amount'].fillna(data_removed['Amount'].median())\n",
        "\n",
        "data_replace"
      ],
      "metadata": {
        "colab": {
          "base_uri": "https://localhost:8080/",
          "height": 562
        },
        "id": "l1XJaHxPigKa",
        "outputId": "68f4338c-4212-42ce-93ab-b64dbd2b5046"
      },
      "execution_count": null,
      "outputs": [
        {
          "output_type": "stream",
          "name": "stderr",
          "text": [
            "<ipython-input-9-9725f7938d88>:1: SettingWithCopyWarning: \n",
            "A value is trying to be set on a copy of a slice from a DataFrame.\n",
            "Try using .loc[row_indexer,col_indexer] = value instead\n",
            "\n",
            "See the caveats in the documentation: https://pandas.pydata.org/pandas-docs/stable/user_guide/indexing.html#returning-a-view-versus-a-copy\n",
            "  data_replace =data_removed['Amount'] = data_removed['Amount'].fillna(data_removed['Amount'].median())\n"
          ]
        },
        {
          "output_type": "execute_result",
          "data": {
            "text/plain": [
              "0          647.62\n",
              "1          406.00\n",
              "2          329.00\n",
              "3          753.33\n",
              "4          574.00\n",
              "           ...   \n",
              "128944     517.00\n",
              "128945     999.00\n",
              "128946     690.00\n",
              "128947    1199.00\n",
              "128948     696.00\n",
              "Name: Amount, Length: 128943, dtype: float64"
            ],
            "text/html": [
              "<div>\n",
              "<style scoped>\n",
              "    .dataframe tbody tr th:only-of-type {\n",
              "        vertical-align: middle;\n",
              "    }\n",
              "\n",
              "    .dataframe tbody tr th {\n",
              "        vertical-align: top;\n",
              "    }\n",
              "\n",
              "    .dataframe thead th {\n",
              "        text-align: right;\n",
              "    }\n",
              "</style>\n",
              "<table border=\"1\" class=\"dataframe\">\n",
              "  <thead>\n",
              "    <tr style=\"text-align: right;\">\n",
              "      <th></th>\n",
              "      <th>Amount</th>\n",
              "    </tr>\n",
              "  </thead>\n",
              "  <tbody>\n",
              "    <tr>\n",
              "      <th>0</th>\n",
              "      <td>647.62</td>\n",
              "    </tr>\n",
              "    <tr>\n",
              "      <th>1</th>\n",
              "      <td>406.00</td>\n",
              "    </tr>\n",
              "    <tr>\n",
              "      <th>2</th>\n",
              "      <td>329.00</td>\n",
              "    </tr>\n",
              "    <tr>\n",
              "      <th>3</th>\n",
              "      <td>753.33</td>\n",
              "    </tr>\n",
              "    <tr>\n",
              "      <th>4</th>\n",
              "      <td>574.00</td>\n",
              "    </tr>\n",
              "    <tr>\n",
              "      <th>...</th>\n",
              "      <td>...</td>\n",
              "    </tr>\n",
              "    <tr>\n",
              "      <th>128944</th>\n",
              "      <td>517.00</td>\n",
              "    </tr>\n",
              "    <tr>\n",
              "      <th>128945</th>\n",
              "      <td>999.00</td>\n",
              "    </tr>\n",
              "    <tr>\n",
              "      <th>128946</th>\n",
              "      <td>690.00</td>\n",
              "    </tr>\n",
              "    <tr>\n",
              "      <th>128947</th>\n",
              "      <td>1199.00</td>\n",
              "    </tr>\n",
              "    <tr>\n",
              "      <th>128948</th>\n",
              "      <td>696.00</td>\n",
              "    </tr>\n",
              "  </tbody>\n",
              "</table>\n",
              "<p>128943 rows × 1 columns</p>\n",
              "</div><br><label><b>dtype:</b> float64</label>"
            ]
          },
          "metadata": {},
          "execution_count": 9
        }
      ]
    },
    {
      "cell_type": "markdown",
      "source": [
        "# ANALYSIS ON SALES_DATASET :"
      ],
      "metadata": {
        "id": "qZamxW7wjrPm"
      }
    },
    {
      "cell_type": "markdown",
      "source": [
        "# 1.FINANCIAL PERFORMANCE :"
      ],
      "metadata": {
        "id": "NyyipFLKpObS"
      }
    },
    {
      "cell_type": "markdown",
      "source": [
        "*TOTAL_REVENUE*"
      ],
      "metadata": {
        "id": "rJSt2zRNjzrF"
      }
    },
    {
      "cell_type": "code",
      "source": [
        "# Calculate total revenue, excluding cancelled orders\n",
        "total_revenue = data_removed.loc[data_removed['Status'] != 'Cancelled', 'Amount'].astype(float).sum()\n",
        "\n",
        "# Display total revenue\n",
        "print(\"Total Revenue:\", total_revenue)"
      ],
      "metadata": {
        "colab": {
          "base_uri": "https://localhost:8080/"
        },
        "id": "WVqfz2R-Al7x",
        "outputId": "24584e4b-e1ff-4a3c-f3fd-71f9e6ae90bd"
      },
      "execution_count": null,
      "outputs": [
        {
          "output_type": "stream",
          "name": "stdout",
          "text": [
            "Total Revenue: 71786173.62\n"
          ]
        }
      ]
    },
    {
      "cell_type": "markdown",
      "source": [
        "*TOP SELLING PRODUCT*"
      ],
      "metadata": {
        "id": "Krrp-4ZGkUmd"
      }
    },
    {
      "cell_type": "code",
      "source": [
        "\n",
        "category_sales = data.groupby('Category')['Amount'].sum()\n",
        "\n",
        "\n",
        "top_categories = category_sales.sort_values(ascending=False).head(10)\n",
        "\n",
        "top_categories\n"
      ],
      "metadata": {
        "colab": {
          "base_uri": "https://localhost:8080/",
          "height": 397
        },
        "id": "0XRsO9qjKxAc",
        "outputId": "4cef54bc-5447-420f-d16c-2f4a46d515b4"
      },
      "execution_count": null,
      "outputs": [
        {
          "output_type": "execute_result",
          "data": {
            "text/plain": [
              "Category\n",
              "Set              39196086.67\n",
              "kurta            21295132.70\n",
              "Western Dress    11212423.69\n",
              "Top               5347242.30\n",
              "Ethnic Dress       790362.66\n",
              "Blouse             458408.18\n",
              "Bottom             150667.98\n",
              "Saree              123933.76\n",
              "Dupatta               915.00\n",
              "Name: Amount, dtype: float64"
            ],
            "text/html": [
              "<div>\n",
              "<style scoped>\n",
              "    .dataframe tbody tr th:only-of-type {\n",
              "        vertical-align: middle;\n",
              "    }\n",
              "\n",
              "    .dataframe tbody tr th {\n",
              "        vertical-align: top;\n",
              "    }\n",
              "\n",
              "    .dataframe thead th {\n",
              "        text-align: right;\n",
              "    }\n",
              "</style>\n",
              "<table border=\"1\" class=\"dataframe\">\n",
              "  <thead>\n",
              "    <tr style=\"text-align: right;\">\n",
              "      <th></th>\n",
              "      <th>Amount</th>\n",
              "    </tr>\n",
              "    <tr>\n",
              "      <th>Category</th>\n",
              "      <th></th>\n",
              "    </tr>\n",
              "  </thead>\n",
              "  <tbody>\n",
              "    <tr>\n",
              "      <th>Set</th>\n",
              "      <td>39196086.67</td>\n",
              "    </tr>\n",
              "    <tr>\n",
              "      <th>kurta</th>\n",
              "      <td>21295132.70</td>\n",
              "    </tr>\n",
              "    <tr>\n",
              "      <th>Western Dress</th>\n",
              "      <td>11212423.69</td>\n",
              "    </tr>\n",
              "    <tr>\n",
              "      <th>Top</th>\n",
              "      <td>5347242.30</td>\n",
              "    </tr>\n",
              "    <tr>\n",
              "      <th>Ethnic Dress</th>\n",
              "      <td>790362.66</td>\n",
              "    </tr>\n",
              "    <tr>\n",
              "      <th>Blouse</th>\n",
              "      <td>458408.18</td>\n",
              "    </tr>\n",
              "    <tr>\n",
              "      <th>Bottom</th>\n",
              "      <td>150667.98</td>\n",
              "    </tr>\n",
              "    <tr>\n",
              "      <th>Saree</th>\n",
              "      <td>123933.76</td>\n",
              "    </tr>\n",
              "    <tr>\n",
              "      <th>Dupatta</th>\n",
              "      <td>915.00</td>\n",
              "    </tr>\n",
              "  </tbody>\n",
              "</table>\n",
              "</div><br><label><b>dtype:</b> float64</label>"
            ]
          },
          "metadata": {},
          "execution_count": 12
        }
      ]
    },
    {
      "cell_type": "markdown",
      "source": [
        "*Revenue_By_Category*"
      ],
      "metadata": {
        "id": "UBGUejWop3D3"
      }
    },
    {
      "cell_type": "code",
      "source": [
        "revenue_by_category = data_removed.groupby('Category')['Amount'].sum().sort_values(ascending=False)\n",
        "revenue_by_category\n"
      ],
      "metadata": {
        "colab": {
          "base_uri": "https://localhost:8080/",
          "height": 397
        },
        "id": "DC8VpDyen2y-",
        "outputId": "c4f5ebf6-f34f-4fcf-8713-9ea5fa136c74"
      },
      "execution_count": null,
      "outputs": [
        {
          "output_type": "execute_result",
          "data": {
            "text/plain": [
              "Category\n",
              "Set              41154789.67\n",
              "kurta            23204584.70\n",
              "Western Dress    11694003.69\n",
              "Top               5623727.30\n",
              "Ethnic Dress       830292.66\n",
              "Blouse             485633.18\n",
              "Bottom             162767.98\n",
              "Saree              129378.76\n",
              "Dupatta               915.00\n",
              "Name: Amount, dtype: float64"
            ],
            "text/html": [
              "<div>\n",
              "<style scoped>\n",
              "    .dataframe tbody tr th:only-of-type {\n",
              "        vertical-align: middle;\n",
              "    }\n",
              "\n",
              "    .dataframe tbody tr th {\n",
              "        vertical-align: top;\n",
              "    }\n",
              "\n",
              "    .dataframe thead th {\n",
              "        text-align: right;\n",
              "    }\n",
              "</style>\n",
              "<table border=\"1\" class=\"dataframe\">\n",
              "  <thead>\n",
              "    <tr style=\"text-align: right;\">\n",
              "      <th></th>\n",
              "      <th>Amount</th>\n",
              "    </tr>\n",
              "    <tr>\n",
              "      <th>Category</th>\n",
              "      <th></th>\n",
              "    </tr>\n",
              "  </thead>\n",
              "  <tbody>\n",
              "    <tr>\n",
              "      <th>Set</th>\n",
              "      <td>41154789.67</td>\n",
              "    </tr>\n",
              "    <tr>\n",
              "      <th>kurta</th>\n",
              "      <td>23204584.70</td>\n",
              "    </tr>\n",
              "    <tr>\n",
              "      <th>Western Dress</th>\n",
              "      <td>11694003.69</td>\n",
              "    </tr>\n",
              "    <tr>\n",
              "      <th>Top</th>\n",
              "      <td>5623727.30</td>\n",
              "    </tr>\n",
              "    <tr>\n",
              "      <th>Ethnic Dress</th>\n",
              "      <td>830292.66</td>\n",
              "    </tr>\n",
              "    <tr>\n",
              "      <th>Blouse</th>\n",
              "      <td>485633.18</td>\n",
              "    </tr>\n",
              "    <tr>\n",
              "      <th>Bottom</th>\n",
              "      <td>162767.98</td>\n",
              "    </tr>\n",
              "    <tr>\n",
              "      <th>Saree</th>\n",
              "      <td>129378.76</td>\n",
              "    </tr>\n",
              "    <tr>\n",
              "      <th>Dupatta</th>\n",
              "      <td>915.00</td>\n",
              "    </tr>\n",
              "  </tbody>\n",
              "</table>\n",
              "</div><br><label><b>dtype:</b> float64</label>"
            ]
          },
          "metadata": {},
          "execution_count": 15
        }
      ]
    },
    {
      "cell_type": "markdown",
      "source": [
        "*Peak sales periods*"
      ],
      "metadata": {
        "id": "VZ0ePakjq_bz"
      }
    },
    {
      "cell_type": "code",
      "source": [
        "\n",
        "data['Date'] = pd.to_datetime(data['Date'])\n",
        "\n",
        "data['Day_of_Week'] = data['Date'].dt.day_name()\n",
        "\n",
        "# Group by 'Day_of_Week' and calculate total sales amount for each day\n",
        "sales_by_day = data.groupby('Day_of_Week')['Amount'].sum()\n",
        "\n",
        "# Sort the days by total sales amount in descending order\n",
        "sorted_sales_by_day = sales_by_day.sort_values(ascending=False)\n",
        "\n",
        "sorted_sales_by_day\n",
        "\n",
        "\n",
        "\n",
        "\n",
        "\n",
        "\n",
        "\n"
      ],
      "metadata": {
        "colab": {
          "base_uri": "https://localhost:8080/",
          "height": 335
        },
        "id": "6OYYHoenrkQw",
        "outputId": "f6fa3ab3-0c0b-455c-d23f-6ba7e66301ff"
      },
      "execution_count": null,
      "outputs": [
        {
          "output_type": "execute_result",
          "data": {
            "text/plain": [
              "Day_of_Week\n",
              "Sunday       12029441.30\n",
              "Tuesday      11487357.07\n",
              "Saturday     11334595.21\n",
              "Monday       11312354.14\n",
              "Wednesday    11247436.35\n",
              "Friday       10805394.60\n",
              "Thursday     10358594.27\n",
              "Name: Amount, dtype: float64"
            ],
            "text/html": [
              "<div>\n",
              "<style scoped>\n",
              "    .dataframe tbody tr th:only-of-type {\n",
              "        vertical-align: middle;\n",
              "    }\n",
              "\n",
              "    .dataframe tbody tr th {\n",
              "        vertical-align: top;\n",
              "    }\n",
              "\n",
              "    .dataframe thead th {\n",
              "        text-align: right;\n",
              "    }\n",
              "</style>\n",
              "<table border=\"1\" class=\"dataframe\">\n",
              "  <thead>\n",
              "    <tr style=\"text-align: right;\">\n",
              "      <th></th>\n",
              "      <th>Amount</th>\n",
              "    </tr>\n",
              "    <tr>\n",
              "      <th>Day_of_Week</th>\n",
              "      <th></th>\n",
              "    </tr>\n",
              "  </thead>\n",
              "  <tbody>\n",
              "    <tr>\n",
              "      <th>Sunday</th>\n",
              "      <td>12029441.30</td>\n",
              "    </tr>\n",
              "    <tr>\n",
              "      <th>Tuesday</th>\n",
              "      <td>11487357.07</td>\n",
              "    </tr>\n",
              "    <tr>\n",
              "      <th>Saturday</th>\n",
              "      <td>11334595.21</td>\n",
              "    </tr>\n",
              "    <tr>\n",
              "      <th>Monday</th>\n",
              "      <td>11312354.14</td>\n",
              "    </tr>\n",
              "    <tr>\n",
              "      <th>Wednesday</th>\n",
              "      <td>11247436.35</td>\n",
              "    </tr>\n",
              "    <tr>\n",
              "      <th>Friday</th>\n",
              "      <td>10805394.60</td>\n",
              "    </tr>\n",
              "    <tr>\n",
              "      <th>Thursday</th>\n",
              "      <td>10358594.27</td>\n",
              "    </tr>\n",
              "  </tbody>\n",
              "</table>\n",
              "</div><br><label><b>dtype:</b> float64</label>"
            ]
          },
          "metadata": {},
          "execution_count": 30
        }
      ]
    },
    {
      "cell_type": "code",
      "source": [
        "\n",
        "plt.figure(figsize=(8, 8))\n",
        "sorted_sales_by_day.plot(kind='pie', autopct='%1.1f%%', colors=['#ff9999','#66b3ff','#99ff99','#ffcc99','#c2c2f0','#ffb3e6','#c4e17f'])\n",
        "\n",
        "\n",
        "plt.title('Sales Distribution by Day of the Week')\n",
        "\n",
        "# Display the plot\n",
        "plt.ylabel('')\n",
        "plt.show()\n"
      ],
      "metadata": {
        "colab": {
          "base_uri": "https://localhost:8080/",
          "height": 675
        },
        "id": "bsoYhV6fQK3G",
        "outputId": "ea6b8293-d428-423c-d355-c99912c98688"
      },
      "execution_count": null,
      "outputs": [
        {
          "output_type": "display_data",
          "data": {
            "text/plain": [
              "<Figure size 800x800 with 1 Axes>"
            ],
            "image/png": "[encoded data removed]"
          },
          "metadata": {}
        }
      ]
    },
    {
      "cell_type": "markdown",
      "source": [
        "#2.CUSTOMER_INSIGHT"
      ],
      "metadata": {
        "id": "k2exZqREsKEs"
      }
    },
    {
      "cell_type": "markdown",
      "source": [
        "Top-Performing Locations"
      ],
      "metadata": {
        "id": "VLliBtFSshMz"
      }
    },
    {
      "cell_type": "code",
      "source": [
        "top_locations = data_removed['ship-city'].value_counts().head(5)\n",
        "top_locations\n"
      ],
      "metadata": {
        "colab": {
          "base_uri": "https://localhost:8080/",
          "height": 272
        },
        "id": "ntePQHH1sPm4",
        "outputId": "e20ee074-4abb-47a3-96ee-83daf2755950"
      },
      "execution_count": null,
      "outputs": [
        {
          "output_type": "execute_result",
          "data": {
            "text/plain": [
              "ship-city\n",
              "BENGALURU    11211\n",
              "HYDERABAD     8071\n",
              "MUMBAI        6124\n",
              "NEW DELHI     5793\n",
              "CHENNAI       5419\n",
              "Name: count, dtype: int64"
            ],
            "text/html": [
              "<div>\n",
              "<style scoped>\n",
              "    .dataframe tbody tr th:only-of-type {\n",
              "        vertical-align: middle;\n",
              "    }\n",
              "\n",
              "    .dataframe tbody tr th {\n",
              "        vertical-align: top;\n",
              "    }\n",
              "\n",
              "    .dataframe thead th {\n",
              "        text-align: right;\n",
              "    }\n",
              "</style>\n",
              "<table border=\"1\" class=\"dataframe\">\n",
              "  <thead>\n",
              "    <tr style=\"text-align: right;\">\n",
              "      <th></th>\n",
              "      <th>count</th>\n",
              "    </tr>\n",
              "    <tr>\n",
              "      <th>ship-city</th>\n",
              "      <th></th>\n",
              "    </tr>\n",
              "  </thead>\n",
              "  <tbody>\n",
              "    <tr>\n",
              "      <th>BENGALURU</th>\n",
              "      <td>11211</td>\n",
              "    </tr>\n",
              "    <tr>\n",
              "      <th>HYDERABAD</th>\n",
              "      <td>8071</td>\n",
              "    </tr>\n",
              "    <tr>\n",
              "      <th>MUMBAI</th>\n",
              "      <td>6124</td>\n",
              "    </tr>\n",
              "    <tr>\n",
              "      <th>NEW DELHI</th>\n",
              "      <td>5793</td>\n",
              "    </tr>\n",
              "    <tr>\n",
              "      <th>CHENNAI</th>\n",
              "      <td>5419</td>\n",
              "    </tr>\n",
              "  </tbody>\n",
              "</table>\n",
              "</div><br><label><b>dtype:</b> int64</label>"
            ]
          },
          "metadata": {},
          "execution_count": 17
        }
      ]
    },
    {
      "cell_type": "markdown",
      "source": [
        "*Figure:Top-Performing Locations*"
      ],
      "metadata": {
        "id": "YIYHzFxK3xCv"
      }
    },
    {
      "cell_type": "code",
      "source": [
        "import matplotlib.pyplot as plt\n",
        "\n",
        "\n",
        "plt.figure(figsize=(8, 5))\n",
        "top_locations.plot( kind='bar', color='lightblue')\n",
        "plt.title('Top 5 Performing Locations by Orders')\n",
        "plt.xlabel('City')\n",
        "plt.ylabel('Number of Orders')\n",
        "plt.xticks(rotation=45)\n",
        "plt.show()\n"
      ],
      "metadata": {
        "colab": {
          "base_uri": "https://localhost:8080/",
          "height": 544
        },
        "id": "vM1rJmvT2uC4",
        "outputId": "f4d08104-7300-4649-c3e7-afd394af1612"
      },
      "execution_count": null,
      "outputs": [
        {
          "output_type": "display_data",
          "data": {
            "text/plain": [
              "<Figure size 800x500 with 1 Axes>"
            ],
            "image/png": "[encoded data removed]"
          },
          "metadata": {}
        }
      ]
    },
    {
      "cell_type": "markdown",
      "source": [
        "Trends in Order Cancellations"
      ],
      "metadata": {
        "id": "D3qwQ7ensxpn"
      }
    },
    {
      "cell_type": "code",
      "source": [
        "order_cancellation_trends = data_removed[data_removed['Status'] == 'Cancelled']['ship-city'].value_counts().head(5)\n",
        "order_cancellation_trends\n"
      ],
      "metadata": {
        "colab": {
          "base_uri": "https://localhost:8080/",
          "height": 272
        },
        "id": "I-G2MR92sxJB",
        "outputId": "52142f35-e356-4175-a51a-7e81727c629f"
      },
      "execution_count": null,
      "outputs": [
        {
          "output_type": "execute_result",
          "data": {
            "text/plain": [
              "ship-city\n",
              "BENGALURU    1313\n",
              "HYDERABAD    1146\n",
              "NEW DELHI     775\n",
              "MUMBAI        747\n",
              "CHENNAI       738\n",
              "Name: count, dtype: int64"
            ],
            "text/html": [
              "<div>\n",
              "<style scoped>\n",
              "    .dataframe tbody tr th:only-of-type {\n",
              "        vertical-align: middle;\n",
              "    }\n",
              "\n",
              "    .dataframe tbody tr th {\n",
              "        vertical-align: top;\n",
              "    }\n",
              "\n",
              "    .dataframe thead th {\n",
              "        text-align: right;\n",
              "    }\n",
              "</style>\n",
              "<table border=\"1\" class=\"dataframe\">\n",
              "  <thead>\n",
              "    <tr style=\"text-align: right;\">\n",
              "      <th></th>\n",
              "      <th>count</th>\n",
              "    </tr>\n",
              "    <tr>\n",
              "      <th>ship-city</th>\n",
              "      <th></th>\n",
              "    </tr>\n",
              "  </thead>\n",
              "  <tbody>\n",
              "    <tr>\n",
              "      <th>BENGALURU</th>\n",
              "      <td>1313</td>\n",
              "    </tr>\n",
              "    <tr>\n",
              "      <th>HYDERABAD</th>\n",
              "      <td>1146</td>\n",
              "    </tr>\n",
              "    <tr>\n",
              "      <th>NEW DELHI</th>\n",
              "      <td>775</td>\n",
              "    </tr>\n",
              "    <tr>\n",
              "      <th>MUMBAI</th>\n",
              "      <td>747</td>\n",
              "    </tr>\n",
              "    <tr>\n",
              "      <th>CHENNAI</th>\n",
              "      <td>738</td>\n",
              "    </tr>\n",
              "  </tbody>\n",
              "</table>\n",
              "</div><br><label><b>dtype:</b> int64</label>"
            ]
          },
          "metadata": {},
          "execution_count": 38
        }
      ]
    },
    {
      "cell_type": "code",
      "source": [
        "import matplotlib.pyplot as plt\n",
        "\n",
        "# Filter data for cancelled orders and get top 5 cities with highest cancellations\n",
        "order_cancellation_trends = data[data['Status'] == 'Cancelled']['ship-city'].value_counts().head(5)\n",
        "\n",
        "# Plotting the bar graph\n",
        "plt.figure(figsize=(10, 6))\n",
        "order_cancellation_trends.plot(kind='bar', color='skyblue')\n",
        "\n",
        "# Adding titles and labels\n",
        "plt.title('Top 5 Cities with Highest Order Cancellations')\n",
        "plt.xlabel('Cities')\n",
        "plt.ylabel('Number of Cancellations')\n",
        "\n",
        "# Display the plot\n",
        "plt.xticks(rotation=45)\n",
        "plt.show()\n"
      ],
      "metadata": {
        "colab": {
          "base_uri": "https://localhost:8080/",
          "height": 621
        },
        "id": "MoK4A1VCPToX",
        "outputId": "ad06c0b4-1184-4058-ebe1-bc0b11cb2879"
      },
      "execution_count": null,
      "outputs": [
        {
          "output_type": "display_data",
          "data": {
            "text/plain": [
              "<Figure size 1000x600 with 1 Axes>"
            ],
            "image/png": "[encoded data removed]"
          },
          "metadata": {}
        }
      ]
    },
    {
      "cell_type": "markdown",
      "source": [
        "*Analyzing B2B vs. B2C Customer Behavior*"
      ],
      "metadata": {
        "id": "kVsOaIiUswve"
      }
    },
    {
      "cell_type": "code",
      "source": [
        "b2b_count = data[data['B2B'] == True]['B2B'].count()\n",
        "print(\"B2B transactions count:\", b2b_count)\n"
      ],
      "metadata": {
        "colab": {
          "base_uri": "https://localhost:8080/"
        },
        "id": "iscTDABTtg1f",
        "outputId": "95c3702f-e5c8-49a7-a916-bde5de7b41a0"
      },
      "execution_count": null,
      "outputs": [
        {
          "output_type": "stream",
          "name": "stdout",
          "text": [
            "B2B transactions count: 871\n"
          ]
        }
      ]
    },
    {
      "cell_type": "code",
      "source": [
        "b2c_count = data[data['B2B'] == False]['B2B'].count()\n",
        "print(\"B2C transactions count:\", b2c_count)\n"
      ],
      "metadata": {
        "colab": {
          "base_uri": "https://localhost:8080/"
        },
        "id": "vElWeyw1tnsB",
        "outputId": "5b42783e-67c3-432d-d45a-312400ba83c1"
      },
      "execution_count": null,
      "outputs": [
        {
          "output_type": "stream",
          "name": "stdout",
          "text": [
            "B2C transactions count: 128078\n"
          ]
        }
      ]
    },
    {
      "cell_type": "markdown",
      "source": [
        "*Create and display the pie chart with count and percentage*"
      ],
      "metadata": {
        "id": "t8pZJiyDcSOc"
      }
    },
    {
      "cell_type": "code",
      "source": [
        "\n",
        "plt.pie(\n",
        "    [b2b_count, b2c_count],\n",
        "    labels=[f'B2B: {b2b_count} ({b2b_count / (b2b_count + b2c_count) * 100:.1f}%)',\n",
        "            f'B2C: {b2c_count} ({b2c_count / (b2b_count + b2c_count) * 100:.1f}%)'],\n",
        "    colors=['red', 'blue'],\n",
        "    startangle=140\n",
        ")\n",
        "plt.title('B2B vs B2C Transactions')\n",
        "plt.show()\n"
      ],
      "metadata": {
        "colab": {
          "base_uri": "https://localhost:8080/",
          "height": 428
        },
        "id": "jBjA2OMzbY1s",
        "outputId": "c31b79d0-2cc4-4a1a-c624-1d0d97e7bcb1"
      },
      "execution_count": null,
      "outputs": [
        {
          "output_type": "display_data",
          "data": {
            "text/plain": [
              "<Figure size 640x480 with 1 Axes>"
            ],
            "image/png": "[encoded data removed]"
          },
          "metadata": {}
        }
      ]
    },
    {
      "cell_type": "markdown",
      "source": [
        "# 3.Logistics and Fulfillment:"
      ],
      "metadata": {
        "id": "fQwKAghct5gL"
      }
    },
    {
      "cell_type": "markdown",
      "source": [
        "*Calculate Average Shipping Time*"
      ],
      "metadata": {
        "id": "07LY_9diuKwN"
      }
    },
    {
      "cell_type": "code",
      "source": [
        "# Calculate average shipping time\n",
        "data = data.assign(**{'Shipping Time (Days)': np.where(data['Status'] != 'Cancelled', np.random.randint(2, 7, size=len(data)), np.nan)})\n",
        "average_shipping_time = data.loc[data['Status'] != 'Cancelled', 'Shipping Time (Days)'].mean()\n",
        "print(\"Average Shipping Time (Days):\", average_shipping_time)"
      ],
      "metadata": {
        "colab": {
          "base_uri": "https://localhost:8080/"
        },
        "id": "FIuecxEzDXyG",
        "outputId": "524d6e0d-e232-4528-8109-677cad9fa223"
      },
      "execution_count": null,
      "outputs": [
        {
          "output_type": "stream",
          "name": "stdout",
          "text": [
            "Average Shipping Time (Days): 3.9986981050195283\n"
          ]
        }
      ]
    },
    {
      "cell_type": "code",
      "source": [
        "print(data_removed.columns)\n"
      ],
      "metadata": {
        "colab": {
          "base_uri": "https://localhost:8080/"
        },
        "id": "H_yKKVL8CBN3",
        "outputId": "94f2cdf9-d7b0-4101-9285-4600d9af63a2"
      },
      "execution_count": null,
      "outputs": [
        {
          "output_type": "stream",
          "name": "stdout",
          "text": [
            "Index(['Order ID', 'Date', 'Status', 'Fulfilment', 'Sales Channel ',\n",
            "       'ship-service-level', 'Style', 'SKU', 'Category', 'Size', 'ASIN',\n",
            "       'Courier Status', 'Qty', 'currency', 'Amount', 'ship-city',\n",
            "       'ship-state', 'ship-postal-code', 'ship-country', 'promotion-ids',\n",
            "       'B2B', 'fulfilled-by', 'Unnamed: 22'],\n",
            "      dtype='object')\n"
          ]
        }
      ]
    },
    {
      "cell_type": "markdown",
      "source": [
        "*Percentage of Orders Fulfilled by Amazon*"
      ],
      "metadata": {
        "id": "3wTJcZlCuuFR"
      }
    },
    {
      "cell_type": "code",
      "source": [
        "amazon_fulfilled = data_removed[data_removed['Fulfilment'] == 'Amazon'].shape[0] / data_removed.shape[0] * 100\n",
        "amazon_fulfilled\n"
      ],
      "metadata": {
        "colab": {
          "base_uri": "https://localhost:8080/"
        },
        "id": "Jk_71yqzuzGQ",
        "outputId": "d16cabe7-96c0-4807-84b3-fc52a692c18c"
      },
      "execution_count": null,
      "outputs": [
        {
          "output_type": "execute_result",
          "data": {
            "text/plain": [
              "69.54468253414299"
            ]
          },
          "metadata": {},
          "execution_count": 46
        }
      ]
    },
    {
      "cell_type": "markdown",
      "source": [
        "*Percentage of Orders Fulfilled by Merchant*"
      ],
      "metadata": {
        "id": "EOaqPggCu7tY"
      }
    },
    {
      "cell_type": "code",
      "source": [
        "merchant_fulfilled = data_removed[data_removed['Fulfilment'] == 'Merchant'].shape[0] / data_removed.shape[0] * 100\n",
        "merchant_fulfilled\n"
      ],
      "metadata": {
        "colab": {
          "base_uri": "https://localhost:8080/"
        },
        "id": "DK_idFIOu-7G",
        "outputId": "bd17e65b-e379-4871-c20a-50a958b86e4b"
      },
      "execution_count": null,
      "outputs": [
        {
          "output_type": "execute_result",
          "data": {
            "text/plain": [
              "30.455317465857007"
            ]
          },
          "metadata": {},
          "execution_count": 47
        }
      ]
    },
    {
      "cell_type": "markdown",
      "source": [
        "*Percentage of Orders Fulfilled by Merchant and Amazon*"
      ],
      "metadata": {
        "id": "MSM9v-Jg2DIv"
      }
    },
    {
      "cell_type": "code",
      "source": [
        "fulfillment_counts = data_removed['Fulfilment'].value_counts()\n",
        "fulfillment_percentage = (fulfillment_counts / fulfillment_counts.sum()) * 100\n",
        "fulfillment_percentage\n",
        "\n",
        "import matplotlib.pyplot as plt\n",
        "\n",
        "# Plot Percentage of Orders Fulfilled by Amazon and Merchant\n",
        "plt.figure(figsize=(6, 6))\n",
        "fulfillment_percentage.plot(kind='pie', autopct='%1.1f%%', colors=['skyblue', 'lightcoral'])\n",
        "plt.title('Percentage of Orders Fulfilled by Amazon vs Merchant')\n",
        "plt.ylabel('')  # Hide the y-label for a cleaner pie chart\n",
        "plt.show()\n"
      ],
      "metadata": {
        "colab": {
          "base_uri": "https://localhost:8080/",
          "height": 521
        },
        "id": "Ya0U5wzo2YOx",
        "outputId": "fca175f7-ebaa-433b-932b-f7926f9fe0a6"
      },
      "execution_count": null,
      "outputs": [
        {
          "output_type": "display_data",
          "data": {
            "text/plain": [
              "<Figure size 600x600 with 1 Axes>"
            ],
            "image/png": "[encoded data removed]"
          },
          "metadata": {}
        }
      ]
    },
    {
      "cell_type": "markdown",
      "source": [
        "#4.Product Management:"
      ],
      "metadata": {
        "id": "FaiCyoodvUCM"
      }
    },
    {
      "cell_type": "markdown",
      "source": [
        "*Popular Product Categories*"
      ],
      "metadata": {
        "id": "mRZscuNiviNj"
      }
    },
    {
      "cell_type": "code",
      "source": [
        "popular_categories = data_removed['Category'].value_counts().head(5)\n",
        "popular_categories\n"
      ],
      "metadata": {
        "colab": {
          "base_uri": "https://localhost:8080/",
          "height": 272
        },
        "id": "ADf08w6VvXW7",
        "outputId": "4ec2b68a-14e2-415f-f98b-8e28a7971b75"
      },
      "execution_count": null,
      "outputs": [
        {
          "output_type": "execute_result",
          "data": {
            "text/plain": [
              "Category\n",
              "Set              50272\n",
              "kurta            49864\n",
              "Western Dress    15495\n",
              "Top              10621\n",
              "Ethnic Dress      1158\n",
              "Name: count, dtype: int64"
            ],
            "text/html": [
              "<div>\n",
              "<style scoped>\n",
              "    .dataframe tbody tr th:only-of-type {\n",
              "        vertical-align: middle;\n",
              "    }\n",
              "\n",
              "    .dataframe tbody tr th {\n",
              "        vertical-align: top;\n",
              "    }\n",
              "\n",
              "    .dataframe thead th {\n",
              "        text-align: right;\n",
              "    }\n",
              "</style>\n",
              "<table border=\"1\" class=\"dataframe\">\n",
              "  <thead>\n",
              "    <tr style=\"text-align: right;\">\n",
              "      <th></th>\n",
              "      <th>count</th>\n",
              "    </tr>\n",
              "    <tr>\n",
              "      <th>Category</th>\n",
              "      <th></th>\n",
              "    </tr>\n",
              "  </thead>\n",
              "  <tbody>\n",
              "    <tr>\n",
              "      <th>Set</th>\n",
              "      <td>50272</td>\n",
              "    </tr>\n",
              "    <tr>\n",
              "      <th>kurta</th>\n",
              "      <td>49864</td>\n",
              "    </tr>\n",
              "    <tr>\n",
              "      <th>Western Dress</th>\n",
              "      <td>15495</td>\n",
              "    </tr>\n",
              "    <tr>\n",
              "      <th>Top</th>\n",
              "      <td>10621</td>\n",
              "    </tr>\n",
              "    <tr>\n",
              "      <th>Ethnic Dress</th>\n",
              "      <td>1158</td>\n",
              "    </tr>\n",
              "  </tbody>\n",
              "</table>\n",
              "</div><br><label><b>dtype:</b> int64</label>"
            ]
          },
          "metadata": {},
          "execution_count": 50
        }
      ]
    },
    {
      "cell_type": "markdown",
      "source": [
        "*Figure: 5 Popular Product Categories*"
      ],
      "metadata": {
        "id": "vXQKUkkE3gR0"
      }
    },
    {
      "cell_type": "code",
      "source": [
        "import matplotlib.pyplot as plt\n",
        "\n",
        "\n",
        "plt.figure(figsize=(8, 5))\n",
        "popular_categories.plot(kind='bar', color='lightgreen')\n",
        "plt.title('Top 5 Popular Product Categories')\n",
        "plt.xlabel('Product Category')\n",
        "plt.ylabel('Number of Orders')\n",
        "plt.xticks(rotation=45)\n",
        "plt.show()\n"
      ],
      "metadata": {
        "colab": {
          "base_uri": "https://localhost:8080/",
          "height": 554
        },
        "id": "6r2tBFIl1wqZ",
        "outputId": "5194507b-0617-4144-8aa2-cb88a2c62465"
      },
      "execution_count": null,
      "outputs": [
        {
          "output_type": "display_data",
          "data": {
            "text/plain": [
              "<Figure size 800x500 with 1 Axes>"
            ],
            "image/png": "[encoded data removed]"
          },
          "metadata": {}
        }
      ]
    },
    {
      "cell_type": "markdown",
      "source": [
        "*Average Quantity Ordered per Category*"
      ],
      "metadata": {
        "id": "KbuJ5rCYv4n6"
      }
    },
    {
      "cell_type": "code",
      "source": [
        "average_quantity_per_category = data_removed.groupby('Category')['Qty'].mean()\n",
        "average_quantity_per_category\n"
      ],
      "metadata": {
        "colab": {
          "base_uri": "https://localhost:8080/",
          "height": 397
        },
        "id": "hvBT5acuv8_2",
        "outputId": "59dc2cea-f692-46f0-f269-567d782793d5"
      },
      "execution_count": null,
      "outputs": [
        {
          "output_type": "execute_result",
          "data": {
            "text/plain": [
              "Category\n",
              "Blouse           0.933045\n",
              "Bottom           0.904545\n",
              "Dupatta          1.000000\n",
              "Ethnic Dress     0.908463\n",
              "Saree            0.926829\n",
              "Set              0.900820\n",
              "Top              0.932304\n",
              "Western Dress    0.899839\n",
              "kurta            0.903417\n",
              "Name: Qty, dtype: float64"
            ],
            "text/html": [
              "<div>\n",
              "<style scoped>\n",
              "    .dataframe tbody tr th:only-of-type {\n",
              "        vertical-align: middle;\n",
              "    }\n",
              "\n",
              "    .dataframe tbody tr th {\n",
              "        vertical-align: top;\n",
              "    }\n",
              "\n",
              "    .dataframe thead th {\n",
              "        text-align: right;\n",
              "    }\n",
              "</style>\n",
              "<table border=\"1\" class=\"dataframe\">\n",
              "  <thead>\n",
              "    <tr style=\"text-align: right;\">\n",
              "      <th></th>\n",
              "      <th>Qty</th>\n",
              "    </tr>\n",
              "    <tr>\n",
              "      <th>Category</th>\n",
              "      <th></th>\n",
              "    </tr>\n",
              "  </thead>\n",
              "  <tbody>\n",
              "    <tr>\n",
              "      <th>Blouse</th>\n",
              "      <td>0.933045</td>\n",
              "    </tr>\n",
              "    <tr>\n",
              "      <th>Bottom</th>\n",
              "      <td>0.904545</td>\n",
              "    </tr>\n",
              "    <tr>\n",
              "      <th>Dupatta</th>\n",
              "      <td>1.000000</td>\n",
              "    </tr>\n",
              "    <tr>\n",
              "      <th>Ethnic Dress</th>\n",
              "      <td>0.908463</td>\n",
              "    </tr>\n",
              "    <tr>\n",
              "      <th>Saree</th>\n",
              "      <td>0.926829</td>\n",
              "    </tr>\n",
              "    <tr>\n",
              "      <th>Set</th>\n",
              "      <td>0.900820</td>\n",
              "    </tr>\n",
              "    <tr>\n",
              "      <th>Top</th>\n",
              "      <td>0.932304</td>\n",
              "    </tr>\n",
              "    <tr>\n",
              "      <th>Western Dress</th>\n",
              "      <td>0.899839</td>\n",
              "    </tr>\n",
              "    <tr>\n",
              "      <th>kurta</th>\n",
              "      <td>0.903417</td>\n",
              "    </tr>\n",
              "  </tbody>\n",
              "</table>\n",
              "</div><br><label><b>dtype:</b> float64</label>"
            ]
          },
          "metadata": {},
          "execution_count": 51
        }
      ]
    },
    {
      "cell_type": "code",
      "source": [
        "average_quantity_ordered = data_removed['Qty'].mean()\n",
        "average_quantity_ordered"
      ],
      "metadata": {
        "colab": {
          "base_uri": "https://localhost:8080/"
        },
        "id": "HlEym1SOwIrg",
        "outputId": "8eea7ec0-5b1c-4a54-811a-716f79c7dd79"
      },
      "execution_count": null,
      "outputs": [
        {
          "output_type": "execute_result",
          "data": {
            "text/plain": [
              "0.9046477901088078"
            ]
          },
          "metadata": {},
          "execution_count": 52
        }
      ]
    },
    {
      "cell_type": "markdown",
      "source": [
        "# 5.Customer Satisfaction and Returns:"
      ],
      "metadata": {
        "id": "nw1wCx2TwP0E"
      }
    },
    {
      "cell_type": "markdown",
      "source": [
        "*Return Rate by Category*"
      ],
      "metadata": {
        "id": "QH1qOaG3wS1Y"
      }
    },
    {
      "cell_type": "code",
      "source": [
        "return_rate_by_category = data_removed[data_removed['Status'].str.contains('Return', na=False)].groupby('Category')['Qty'].sum()\n",
        "return_rate_by_category\n"
      ],
      "metadata": {
        "colab": {
          "base_uri": "https://localhost:8080/",
          "height": 366
        },
        "id": "Fz2_oahJwlXO",
        "outputId": "bf6fbe98-e8b9-437d-d7b3-504a10215ca5"
      },
      "execution_count": null,
      "outputs": [
        {
          "output_type": "execute_result",
          "data": {
            "text/plain": [
              "Category\n",
              "Blouse            12\n",
              "Bottom             6\n",
              "Ethnic Dress      16\n",
              "Saree              1\n",
              "Set              843\n",
              "Top              135\n",
              "Western Dress    342\n",
              "kurta            765\n",
              "Name: Qty, dtype: int64"
            ],
            "text/html": [
              "<div>\n",
              "<style scoped>\n",
              "    .dataframe tbody tr th:only-of-type {\n",
              "        vertical-align: middle;\n",
              "    }\n",
              "\n",
              "    .dataframe tbody tr th {\n",
              "        vertical-align: top;\n",
              "    }\n",
              "\n",
              "    .dataframe thead th {\n",
              "        text-align: right;\n",
              "    }\n",
              "</style>\n",
              "<table border=\"1\" class=\"dataframe\">\n",
              "  <thead>\n",
              "    <tr style=\"text-align: right;\">\n",
              "      <th></th>\n",
              "      <th>Qty</th>\n",
              "    </tr>\n",
              "    <tr>\n",
              "      <th>Category</th>\n",
              "      <th></th>\n",
              "    </tr>\n",
              "  </thead>\n",
              "  <tbody>\n",
              "    <tr>\n",
              "      <th>Blouse</th>\n",
              "      <td>12</td>\n",
              "    </tr>\n",
              "    <tr>\n",
              "      <th>Bottom</th>\n",
              "      <td>6</td>\n",
              "    </tr>\n",
              "    <tr>\n",
              "      <th>Ethnic Dress</th>\n",
              "      <td>16</td>\n",
              "    </tr>\n",
              "    <tr>\n",
              "      <th>Saree</th>\n",
              "      <td>1</td>\n",
              "    </tr>\n",
              "    <tr>\n",
              "      <th>Set</th>\n",
              "      <td>843</td>\n",
              "    </tr>\n",
              "    <tr>\n",
              "      <th>Top</th>\n",
              "      <td>135</td>\n",
              "    </tr>\n",
              "    <tr>\n",
              "      <th>Western Dress</th>\n",
              "      <td>342</td>\n",
              "    </tr>\n",
              "    <tr>\n",
              "      <th>kurta</th>\n",
              "      <td>765</td>\n",
              "    </tr>\n",
              "  </tbody>\n",
              "</table>\n",
              "</div><br><label><b>dtype:</b> int64</label>"
            ]
          },
          "metadata": {},
          "execution_count": 53
        }
      ]
    },
    {
      "cell_type": "markdown",
      "source": [
        "*Cancellation Rate by Category*"
      ],
      "metadata": {
        "id": "9YSQ3AnIwv1c"
      }
    },
    {
      "cell_type": "code",
      "source": [
        "total_cancelled_orders = data_removed[data_removed['Status'] == 'Cancelled']['Qty'].sum()\n",
        "cancellation_rate_by_category = data_removed[data_removed['Status'] == 'Cancelled'].groupby('Category')['Qty'].sum()\n",
        "print(\"Total Cancelled Orders:\", total_cancelled_orders)\n",
        "cancellation_rate_by_category\n"
      ],
      "metadata": {
        "colab": {
          "base_uri": "https://localhost:8080/",
          "height": 383
        },
        "id": "kI39vk0In_BD",
        "outputId": "15c5273d-923f-44a2-d2ea-48b3c711e54b"
      },
      "execution_count": null,
      "outputs": [
        {
          "output_type": "stream",
          "name": "stdout",
          "text": [
            "Total Cancelled Orders: 5678\n"
          ]
        },
        {
          "output_type": "execute_result",
          "data": {
            "text/plain": [
              "Category\n",
              "Blouse             32\n",
              "Bottom             14\n",
              "Ethnic Dress       38\n",
              "Saree               5\n",
              "Set              2262\n",
              "Top               536\n",
              "Western Dress     529\n",
              "kurta            2262\n",
              "Name: Qty, dtype: int64"
            ],
            "text/html": [
              "<div>\n",
              "<style scoped>\n",
              "    .dataframe tbody tr th:only-of-type {\n",
              "        vertical-align: middle;\n",
              "    }\n",
              "\n",
              "    .dataframe tbody tr th {\n",
              "        vertical-align: top;\n",
              "    }\n",
              "\n",
              "    .dataframe thead th {\n",
              "        text-align: right;\n",
              "    }\n",
              "</style>\n",
              "<table border=\"1\" class=\"dataframe\">\n",
              "  <thead>\n",
              "    <tr style=\"text-align: right;\">\n",
              "      <th></th>\n",
              "      <th>Qty</th>\n",
              "    </tr>\n",
              "    <tr>\n",
              "      <th>Category</th>\n",
              "      <th></th>\n",
              "    </tr>\n",
              "  </thead>\n",
              "  <tbody>\n",
              "    <tr>\n",
              "      <th>Blouse</th>\n",
              "      <td>32</td>\n",
              "    </tr>\n",
              "    <tr>\n",
              "      <th>Bottom</th>\n",
              "      <td>14</td>\n",
              "    </tr>\n",
              "    <tr>\n",
              "      <th>Ethnic Dress</th>\n",
              "      <td>38</td>\n",
              "    </tr>\n",
              "    <tr>\n",
              "      <th>Saree</th>\n",
              "      <td>5</td>\n",
              "    </tr>\n",
              "    <tr>\n",
              "      <th>Set</th>\n",
              "      <td>2262</td>\n",
              "    </tr>\n",
              "    <tr>\n",
              "      <th>Top</th>\n",
              "      <td>536</td>\n",
              "    </tr>\n",
              "    <tr>\n",
              "      <th>Western Dress</th>\n",
              "      <td>529</td>\n",
              "    </tr>\n",
              "    <tr>\n",
              "      <th>kurta</th>\n",
              "      <td>2262</td>\n",
              "    </tr>\n",
              "  </tbody>\n",
              "</table>\n",
              "</div><br><label><b>dtype:</b> int64</label>"
            ]
          },
          "metadata": {},
          "execution_count": 19
        }
      ]
    },
    {
      "cell_type": "markdown",
      "source": [
        "*FIGURE OF : Cancellation And Return Rate by Category*"
      ],
      "metadata": {
        "id": "C88Rt3rl3Mz3"
      }
    },
    {
      "cell_type": "code",
      "source": [
        "import matplotlib.pyplot as plt\n",
        "\n",
        "# Plot Return Rate by Category\n",
        "plt.figure(figsize=(10, 5))\n",
        "return_rate_by_category.plot(kind='bar', color='skyblue')\n",
        "plt.title('Return Rate by Category')\n",
        "plt.xlabel('Product Category')\n",
        "plt.ylabel('Total Returns')\n",
        "plt.show()\n",
        "\n",
        "# Plot Cancellation Rate by Category\n",
        "plt.figure(figsize=(10, 5))\n",
        "cancellation_rate_by_category.plot(kind='bar', color='lightcoral')\n",
        "plt.title('Cancellation Rate by Category')\n",
        "plt.xlabel('Product Category')\n",
        "plt.ylabel('Total Cancellations')\n",
        "plt.show()\n"
      ],
      "metadata": {
        "colab": {
          "base_uri": "https://localhost:8080/",
          "height": 1000
        },
        "id": "-cjQiHgq1eQ7",
        "outputId": "720bcd4c-3c5d-4aca-d8a1-d59d29616d60"
      },
      "execution_count": null,
      "outputs": [
        {
          "output_type": "display_data",
          "data": {
            "text/plain": [
              "<Figure size 1000x500 with 1 Axes>"
            ],
            "image/png": "[encoded data removed]"
          },
          "metadata": {}
        },
        {
          "output_type": "display_data",
          "data": {
            "text/plain": [
              "<Figure size 1000x500 with 1 Axes>"
            ],
            "image/png": "[encoded data removed]"
          },
          "metadata": {}
        }
      ]
    },
    {
      "cell_type": "markdown",
      "source": [
        "*Return and cancellation rates*"
      ],
      "metadata": {
        "id": "_ZO55AsvyUyx"
      }
    },
    {
      "cell_type": "code",
      "source": [
        "#used cancelled orders as return rate,\n",
        "total_orders = data_removed.shape[0]\n",
        "cancellation_rate = data_removed[data_removed['Status'].isin(['Cancelled', 'Returned'])].shape[0] / total_orders * 100\n",
        "print(\"Cancellation Rate:\", cancellation_rate)\n",
        "print(\"Return Rate:\", cancellation_rate)\n"
      ],
      "metadata": {
        "colab": {
          "base_uri": "https://localhost:8080/"
        },
        "id": "dL-XsbPuodmr",
        "outputId": "62a987b7-e97b-4bdb-9961-f318fb8b380c"
      },
      "execution_count": null,
      "outputs": [
        {
          "output_type": "stream",
          "name": "stdout",
          "text": [
            "Cancellation Rate: 14.2217879217949\n",
            "Return Rate: 14.2217879217949\n"
          ]
        }
      ]
    },
    {
      "cell_type": "markdown",
      "source": [
        "*Problematic Products*"
      ],
      "metadata": {
        "id": "STbi1klwxWaK"
      }
    },
    {
      "cell_type": "code",
      "source": [
        "problematic_products = data_removed[data_removed['Status'].isin(['Returned', 'Cancelled'])].groupby('Style').size().sort_values(ascending=False).head(5)\n",
        "problematic_products\n",
        "\n",
        "\n"
      ],
      "metadata": {
        "colab": {
          "base_uri": "https://localhost:8080/"
        },
        "id": "cwwri7OxxbUj",
        "outputId": "b9cf0899-6ebe-4824-8e85-692f46b38512"
      },
      "execution_count": null,
      "outputs": [
        {
          "output_type": "error",
          "ename": "NameError",
          "evalue": "name 'data_removed' is not defined",
          "traceback": [
            "\u001b[0;31m---------------------------------------------------------------------------\u001b[0m",
            "\u001b[0;31mNameError\u001b[0m                                 Traceback (most recent call last)",
            "\u001b[0;32m<ipython-input-3-d959c2c431e8>\u001b[0m in \u001b[0;36m<cell line: 1>\u001b[0;34m()\u001b[0m\n\u001b[0;32m----> 1\u001b[0;31m \u001b[0mproblematic_products\u001b[0m \u001b[0;34m=\u001b[0m \u001b[0mdata_removed\u001b[0m\u001b[0;34m[\u001b[0m\u001b[0mdata_removed\u001b[0m\u001b[0;34m[\u001b[0m\u001b[0;34m'Status'\u001b[0m\u001b[0;34m]\u001b[0m\u001b[0;34m.\u001b[0m\u001b[0misin\u001b[0m\u001b[0;34m(\u001b[0m\u001b[0;34m[\u001b[0m\u001b[0;34m'Returned'\u001b[0m\u001b[0;34m,\u001b[0m \u001b[0;34m'Cancelled'\u001b[0m\u001b[0;34m]\u001b[0m\u001b[0;34m)\u001b[0m\u001b[0;34m]\u001b[0m\u001b[0;34m.\u001b[0m\u001b[0mgroupby\u001b[0m\u001b[0;34m(\u001b[0m\u001b[0;34m'Style'\u001b[0m\u001b[0;34m)\u001b[0m\u001b[0;34m.\u001b[0m\u001b[0msize\u001b[0m\u001b[0;34m(\u001b[0m\u001b[0;34m)\u001b[0m\u001b[0;34m.\u001b[0m\u001b[0msort_values\u001b[0m\u001b[0;34m(\u001b[0m\u001b[0mascending\u001b[0m\u001b[0;34m=\u001b[0m\u001b[0;32mFalse\u001b[0m\u001b[0;34m)\u001b[0m\u001b[0;34m.\u001b[0m\u001b[0mhead\u001b[0m\u001b[0;34m(\u001b[0m\u001b[0;36m5\u001b[0m\u001b[0;34m)\u001b[0m\u001b[0;34m\u001b[0m\u001b[0;34m\u001b[0m\u001b[0m\n\u001b[0m\u001b[1;32m      2\u001b[0m \u001b[0mproblematic_products\u001b[0m\u001b[0;34m\u001b[0m\u001b[0;34m\u001b[0m\u001b[0m\n\u001b[1;32m      3\u001b[0m \u001b[0;34m\u001b[0m\u001b[0m\n\u001b[1;32m      4\u001b[0m \u001b[0;34m\u001b[0m\u001b[0m\n",
            "\u001b[0;31mNameError\u001b[0m: name 'data_removed' is not defined"
          ]
        }
      ]
    },
    {
      "cell_type": "markdown",
      "source": [
        "# 6.Summary & Conclusion:"
      ],
      "metadata": {
        "id": "p8i_8XZOzjfb"
      }
    },
    {
      "cell_type": "markdown",
      "source": [
        "The project comprehensively analyzed the key operational areas of the e-commerce company, providing detailed insights into its financial performance, customer behavior, logistics efficiency, and overall customer satisfaction.\n",
        "\n",
        "Financial Performance Analysis helped identify the most profitable products, peak sales periods, and average order values, offering a deeper understanding of revenue streams and customer spending behavior. This insight enables the company to plan inventory, allocate resources, and optimize promotions during high-demand periods.\n",
        "\n",
        "Customer Insights differentiated B2B and B2C customer behavior, highlighting distinct patterns that can shape personalized marketing strategies. Additionally, by pinpointing top-performing locations and order cancellation trends, the company can tailor its logistics and service offerings to meet customer expectations more effectively.\n",
        "\n",
        "Logistics and Fulfillment Analysis identified gaps in shipping efficiency, calculating average shipping times and evaluating the effectiveness of different fulfillment methods, such as Amazon vs. Merchant. This helps in identifying bottlenecks and improving delivery speed, which is crucial for enhancing customer satisfaction.\n",
        "\n",
        "Product Management revealed popular product categories and analyzed average quantities ordered, supporting better inventory management and strategic planning for stocking high-demand items.\n",
        "\n",
        "Customer Satisfaction Analysis uncovered high return and cancellation rates, spotlighting problematic products and categories that require quality improvements. Addressing these issues can significantly boost customer loyalty and satisfaction.\n",
        "\n",
        "**Conclusion:** The project provided actionable insights across multiple business areas, helping the company make informed decisions to streamline operations, boost sales, and enhance customer satisfaction. By leveraging these insights, the company can implement strategies to achieve sustainable growth and a competitive edge in the e-commerce market."
      ],
      "metadata": {
        "id": "B--X6daKzqY_"
      }
    }
  ]
}